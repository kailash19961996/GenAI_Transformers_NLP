{
  "cells": [
    {
      "cell_type": "code",
      "source": [
        "from datasets import load_dataset\n",
        "import random\n",
        "import torch\n",
        "import torch.nn as nn\n",
        "import torch.nn.functional as F\n",
        "import torch.optim as optim\n",
        "import pandas as pd\n",
        "from gensim.models import Word2Vec"
      ],
      "metadata": {
        "id": "XuJp-QZPGNOP"
      },
      "execution_count": 3,
      "outputs": []
    },
    {
      "cell_type": "code",
      "execution_count": 4,
      "metadata": {
        "id": "AES9qsSEQ8lv",
        "colab": {
          "base_uri": "https://localhost:8080/"
        },
        "outputId": "02414928-b8dc-4135-e5b9-1ea90b06a3ed"
      },
      "outputs": [
        {
          "output_type": "stream",
          "name": "stderr",
          "text": [
            "/usr/local/lib/python3.10/dist-packages/huggingface_hub/utils/_token.py:88: UserWarning: \n",
            "The secret `HF_TOKEN` does not exist in your Colab secrets.\n",
            "To authenticate with the Hugging Face Hub, create a token in your settings tab (https://huggingface.co/settings/tokens), set it as secret in your Google Colab and restart your session.\n",
            "You will be able to reuse this secret in all of your notebooks.\n",
            "Please note that authentication is recommended but still optional to access public models or datasets.\n",
            "  warnings.warn(\n"
          ]
        }
      ],
      "source": [
        "# Load the MS MARCO dataset from Hugging Face\n",
        "dataset = load_dataset('ms_marco', 'v1.1')\n",
        "\n",
        "# Split the dataset into training, validation, and test sets\n",
        "train_dataset = dataset['train']\n",
        "val_dataset = dataset['validation']\n",
        "test_dataset = dataset['test']\n",
        "\n",
        "# ['answers', 'passages', 'query', 'query_id', 'query_type', 'wellFormedAnswers']\n",
        "\n",
        "# Extract queries and documents\n",
        "queries = train_dataset['query']\n",
        "relevant_docs = train_dataset['passages']\n",
        "\n",
        "test_queries = test_dataset['query']\n",
        "test_relevant_docs = test_dataset['passages']\n",
        "\n",
        "val_queries = val_dataset['query']\n",
        "val_relevant_docs = val_dataset['passages']"
      ]
    },
    {
      "cell_type": "code",
      "execution_count": 5,
      "metadata": {
        "id": "OCcY6oOI6GuK"
      },
      "outputs": [],
      "source": [
        "df = pd.DataFrame({'query': queries, 'relevant_docs': relevant_docs})\n",
        "train_df = pd.DataFrame({'query': test_queries, 'relevant_docs': test_relevant_docs})\n",
        "val_df = pd.DataFrame({'query': val_queries, 'relevant_docs': val_relevant_docs})"
      ]
    },
    {
      "cell_type": "code",
      "execution_count": 6,
      "metadata": {
        "colab": {
          "base_uri": "https://localhost:8080/",
          "height": 206
        },
        "id": "D6ZxaIi6eO-b",
        "outputId": "91e8b1f4-5991-4ab1-8a9f-5444ff6d1153"
      },
      "outputs": [
        {
          "output_type": "execute_result",
          "data": {
            "text/plain": [
              "                                               query  \\\n",
              "0                                        what is rba   \n",
              "1                       was ronald reagan a democrat   \n",
              "2  how long do you need for sydney and surroundin...   \n",
              "3                    price to install tile in shower   \n",
              "4                    why conversion observed in body   \n",
              "\n",
              "                                       relevant_docs  \n",
              "0  {'is_selected': [0, 0, 0, 0, 0, 1, 0, 0, 0, 0]...  \n",
              "1  {'is_selected': [0, 1, 0, 0, 0, 0, 0], 'passag...  \n",
              "2  {'is_selected': [0, 0, 0, 0, 1, 0, 0, 0, 0, 0]...  \n",
              "3  {'is_selected': [0, 0, 0, 0, 0, 0, 0, 0, 1], '...  \n",
              "4  {'is_selected': [0, 0, 1, 0, 0, 0, 0, 0], 'pas...  "
            ],
            "text/html": [
              "\n",
              "  <div id=\"df-f6b1eba0-95af-4fb8-899a-12684e2d4be5\" class=\"colab-df-container\">\n",
              "    <div>\n",
              "<style scoped>\n",
              "    .dataframe tbody tr th:only-of-type {\n",
              "        vertical-align: middle;\n",
              "    }\n",
              "\n",
              "    .dataframe tbody tr th {\n",
              "        vertical-align: top;\n",
              "    }\n",
              "\n",
              "    .dataframe thead th {\n",
              "        text-align: right;\n",
              "    }\n",
              "</style>\n",
              "<table border=\"1\" class=\"dataframe\">\n",
              "  <thead>\n",
              "    <tr style=\"text-align: right;\">\n",
              "      <th></th>\n",
              "      <th>query</th>\n",
              "      <th>relevant_docs</th>\n",
              "    </tr>\n",
              "  </thead>\n",
              "  <tbody>\n",
              "    <tr>\n",
              "      <th>0</th>\n",
              "      <td>what is rba</td>\n",
              "      <td>{'is_selected': [0, 0, 0, 0, 0, 1, 0, 0, 0, 0]...</td>\n",
              "    </tr>\n",
              "    <tr>\n",
              "      <th>1</th>\n",
              "      <td>was ronald reagan a democrat</td>\n",
              "      <td>{'is_selected': [0, 1, 0, 0, 0, 0, 0], 'passag...</td>\n",
              "    </tr>\n",
              "    <tr>\n",
              "      <th>2</th>\n",
              "      <td>how long do you need for sydney and surroundin...</td>\n",
              "      <td>{'is_selected': [0, 0, 0, 0, 1, 0, 0, 0, 0, 0]...</td>\n",
              "    </tr>\n",
              "    <tr>\n",
              "      <th>3</th>\n",
              "      <td>price to install tile in shower</td>\n",
              "      <td>{'is_selected': [0, 0, 0, 0, 0, 0, 0, 0, 1], '...</td>\n",
              "    </tr>\n",
              "    <tr>\n",
              "      <th>4</th>\n",
              "      <td>why conversion observed in body</td>\n",
              "      <td>{'is_selected': [0, 0, 1, 0, 0, 0, 0, 0], 'pas...</td>\n",
              "    </tr>\n",
              "  </tbody>\n",
              "</table>\n",
              "</div>\n",
              "    <div class=\"colab-df-buttons\">\n",
              "\n",
              "  <div class=\"colab-df-container\">\n",
              "    <button class=\"colab-df-convert\" onclick=\"convertToInteractive('df-f6b1eba0-95af-4fb8-899a-12684e2d4be5')\"\n",
              "            title=\"Convert this dataframe to an interactive table.\"\n",
              "            style=\"display:none;\">\n",
              "\n",
              "  <svg xmlns=\"http://www.w3.org/2000/svg\" height=\"24px\" viewBox=\"0 -960 960 960\">\n",
              "    <path d=\"M120-120v-720h720v720H120Zm60-500h600v-160H180v160Zm220 220h160v-160H400v160Zm0 220h160v-160H400v160ZM180-400h160v-160H180v160Zm440 0h160v-160H620v160ZM180-180h160v-160H180v160Zm440 0h160v-160H620v160Z\"/>\n",
              "  </svg>\n",
              "    </button>\n",
              "\n",
              "  <style>\n",
              "    .colab-df-container {\n",
              "      display:flex;\n",
              "      gap: 12px;\n",
              "    }\n",
              "\n",
              "    .colab-df-convert {\n",
              "      background-color: #E8F0FE;\n",
              "      border: none;\n",
              "      border-radius: 50%;\n",
              "      cursor: pointer;\n",
              "      display: none;\n",
              "      fill: #1967D2;\n",
              "      height: 32px;\n",
              "      padding: 0 0 0 0;\n",
              "      width: 32px;\n",
              "    }\n",
              "\n",
              "    .colab-df-convert:hover {\n",
              "      background-color: #E2EBFA;\n",
              "      box-shadow: 0px 1px 2px rgba(60, 64, 67, 0.3), 0px 1px 3px 1px rgba(60, 64, 67, 0.15);\n",
              "      fill: #174EA6;\n",
              "    }\n",
              "\n",
              "    .colab-df-buttons div {\n",
              "      margin-bottom: 4px;\n",
              "    }\n",
              "\n",
              "    [theme=dark] .colab-df-convert {\n",
              "      background-color: #3B4455;\n",
              "      fill: #D2E3FC;\n",
              "    }\n",
              "\n",
              "    [theme=dark] .colab-df-convert:hover {\n",
              "      background-color: #434B5C;\n",
              "      box-shadow: 0px 1px 3px 1px rgba(0, 0, 0, 0.15);\n",
              "      filter: drop-shadow(0px 1px 2px rgba(0, 0, 0, 0.3));\n",
              "      fill: #FFFFFF;\n",
              "    }\n",
              "  </style>\n",
              "\n",
              "    <script>\n",
              "      const buttonEl =\n",
              "        document.querySelector('#df-f6b1eba0-95af-4fb8-899a-12684e2d4be5 button.colab-df-convert');\n",
              "      buttonEl.style.display =\n",
              "        google.colab.kernel.accessAllowed ? 'block' : 'none';\n",
              "\n",
              "      async function convertToInteractive(key) {\n",
              "        const element = document.querySelector('#df-f6b1eba0-95af-4fb8-899a-12684e2d4be5');\n",
              "        const dataTable =\n",
              "          await google.colab.kernel.invokeFunction('convertToInteractive',\n",
              "                                                    [key], {});\n",
              "        if (!dataTable) return;\n",
              "\n",
              "        const docLinkHtml = 'Like what you see? Visit the ' +\n",
              "          '<a target=\"_blank\" href=https://colab.research.google.com/notebooks/data_table.ipynb>data table notebook</a>'\n",
              "          + ' to learn more about interactive tables.';\n",
              "        element.innerHTML = '';\n",
              "        dataTable['output_type'] = 'display_data';\n",
              "        await google.colab.output.renderOutput(dataTable, element);\n",
              "        const docLink = document.createElement('div');\n",
              "        docLink.innerHTML = docLinkHtml;\n",
              "        element.appendChild(docLink);\n",
              "      }\n",
              "    </script>\n",
              "  </div>\n",
              "\n",
              "\n",
              "<div id=\"df-9ad7505c-51e9-45f7-847c-767f9f753b64\">\n",
              "  <button class=\"colab-df-quickchart\" onclick=\"quickchart('df-9ad7505c-51e9-45f7-847c-767f9f753b64')\"\n",
              "            title=\"Suggest charts\"\n",
              "            style=\"display:none;\">\n",
              "\n",
              "<svg xmlns=\"http://www.w3.org/2000/svg\" height=\"24px\"viewBox=\"0 0 24 24\"\n",
              "     width=\"24px\">\n",
              "    <g>\n",
              "        <path d=\"M19 3H5c-1.1 0-2 .9-2 2v14c0 1.1.9 2 2 2h14c1.1 0 2-.9 2-2V5c0-1.1-.9-2-2-2zM9 17H7v-7h2v7zm4 0h-2V7h2v10zm4 0h-2v-4h2v4z\"/>\n",
              "    </g>\n",
              "</svg>\n",
              "  </button>\n",
              "\n",
              "<style>\n",
              "  .colab-df-quickchart {\n",
              "      --bg-color: #E8F0FE;\n",
              "      --fill-color: #1967D2;\n",
              "      --hover-bg-color: #E2EBFA;\n",
              "      --hover-fill-color: #174EA6;\n",
              "      --disabled-fill-color: #AAA;\n",
              "      --disabled-bg-color: #DDD;\n",
              "  }\n",
              "\n",
              "  [theme=dark] .colab-df-quickchart {\n",
              "      --bg-color: #3B4455;\n",
              "      --fill-color: #D2E3FC;\n",
              "      --hover-bg-color: #434B5C;\n",
              "      --hover-fill-color: #FFFFFF;\n",
              "      --disabled-bg-color: #3B4455;\n",
              "      --disabled-fill-color: #666;\n",
              "  }\n",
              "\n",
              "  .colab-df-quickchart {\n",
              "    background-color: var(--bg-color);\n",
              "    border: none;\n",
              "    border-radius: 50%;\n",
              "    cursor: pointer;\n",
              "    display: none;\n",
              "    fill: var(--fill-color);\n",
              "    height: 32px;\n",
              "    padding: 0;\n",
              "    width: 32px;\n",
              "  }\n",
              "\n",
              "  .colab-df-quickchart:hover {\n",
              "    background-color: var(--hover-bg-color);\n",
              "    box-shadow: 0 1px 2px rgba(60, 64, 67, 0.3), 0 1px 3px 1px rgba(60, 64, 67, 0.15);\n",
              "    fill: var(--button-hover-fill-color);\n",
              "  }\n",
              "\n",
              "  .colab-df-quickchart-complete:disabled,\n",
              "  .colab-df-quickchart-complete:disabled:hover {\n",
              "    background-color: var(--disabled-bg-color);\n",
              "    fill: var(--disabled-fill-color);\n",
              "    box-shadow: none;\n",
              "  }\n",
              "\n",
              "  .colab-df-spinner {\n",
              "    border: 2px solid var(--fill-color);\n",
              "    border-color: transparent;\n",
              "    border-bottom-color: var(--fill-color);\n",
              "    animation:\n",
              "      spin 1s steps(1) infinite;\n",
              "  }\n",
              "\n",
              "  @keyframes spin {\n",
              "    0% {\n",
              "      border-color: transparent;\n",
              "      border-bottom-color: var(--fill-color);\n",
              "      border-left-color: var(--fill-color);\n",
              "    }\n",
              "    20% {\n",
              "      border-color: transparent;\n",
              "      border-left-color: var(--fill-color);\n",
              "      border-top-color: var(--fill-color);\n",
              "    }\n",
              "    30% {\n",
              "      border-color: transparent;\n",
              "      border-left-color: var(--fill-color);\n",
              "      border-top-color: var(--fill-color);\n",
              "      border-right-color: var(--fill-color);\n",
              "    }\n",
              "    40% {\n",
              "      border-color: transparent;\n",
              "      border-right-color: var(--fill-color);\n",
              "      border-top-color: var(--fill-color);\n",
              "    }\n",
              "    60% {\n",
              "      border-color: transparent;\n",
              "      border-right-color: var(--fill-color);\n",
              "    }\n",
              "    80% {\n",
              "      border-color: transparent;\n",
              "      border-right-color: var(--fill-color);\n",
              "      border-bottom-color: var(--fill-color);\n",
              "    }\n",
              "    90% {\n",
              "      border-color: transparent;\n",
              "      border-bottom-color: var(--fill-color);\n",
              "    }\n",
              "  }\n",
              "</style>\n",
              "\n",
              "  <script>\n",
              "    async function quickchart(key) {\n",
              "      const quickchartButtonEl =\n",
              "        document.querySelector('#' + key + ' button');\n",
              "      quickchartButtonEl.disabled = true;  // To prevent multiple clicks.\n",
              "      quickchartButtonEl.classList.add('colab-df-spinner');\n",
              "      try {\n",
              "        const charts = await google.colab.kernel.invokeFunction(\n",
              "            'suggestCharts', [key], {});\n",
              "      } catch (error) {\n",
              "        console.error('Error during call to suggestCharts:', error);\n",
              "      }\n",
              "      quickchartButtonEl.classList.remove('colab-df-spinner');\n",
              "      quickchartButtonEl.classList.add('colab-df-quickchart-complete');\n",
              "    }\n",
              "    (() => {\n",
              "      let quickchartButtonEl =\n",
              "        document.querySelector('#df-9ad7505c-51e9-45f7-847c-767f9f753b64 button');\n",
              "      quickchartButtonEl.style.display =\n",
              "        google.colab.kernel.accessAllowed ? 'block' : 'none';\n",
              "    })();\n",
              "  </script>\n",
              "</div>\n",
              "    </div>\n",
              "  </div>\n"
            ],
            "application/vnd.google.colaboratory.intrinsic+json": {
              "type": "dataframe",
              "variable_name": "df",
              "summary": "{\n  \"name\": \"df\",\n  \"rows\": 82326,\n  \"fields\": [\n    {\n      \"column\": \"query\",\n      \"properties\": {\n        \"dtype\": \"string\",\n        \"num_unique_values\": 82326,\n        \"samples\": [\n          \"where is burnwell ala\",\n          \"what constitutes connective tissue\",\n          \"how much does a rehabilitation center employee make\"\n        ],\n        \"semantic_type\": \"\",\n        \"description\": \"\"\n      }\n    },\n    {\n      \"column\": \"relevant_docs\",\n      \"properties\": {\n        \"dtype\": \"object\",\n        \"semantic_type\": \"\",\n        \"description\": \"\"\n      }\n    }\n  ]\n}"
            }
          },
          "metadata": {},
          "execution_count": 6
        }
      ],
      "source": [
        "\"\"\"import os\n",
        "\n",
        "# Set the desired directory path\n",
        "directory = '/Users/kailashkumar/Downloads'\n",
        "\n",
        "# Create the directory if it doesn't exist\n",
        "os.makedirs(directory, exist_ok=True)\n",
        "\n",
        "# Save the CSV files\n",
        "df.to_csv(os.path.join(directory, 'train_ms_marco_data.csv'), index=False)\n",
        "train_df.to_csv(os.path.join(directory, 'test_ms_marco_data.csv'), index=False)\n",
        "val_df.to_csv(os.path.join(directory, 'val_ms_marco_data.csv'), index=False)\"\"\"\n",
        "\n",
        "\n",
        "df.head()"
      ]
    },
    {
      "cell_type": "code",
      "execution_count": 7,
      "metadata": {
        "colab": {
          "base_uri": "https://localhost:8080/"
        },
        "id": "xbbi3HfuRJGG",
        "outputId": "1f5feed2-2b93-48da-a6be-822ff41cb683"
      },
      "outputs": [
        {
          "output_type": "stream",
          "name": "stdout",
          "text": [
            "Training set size: 82326\n",
            "Validation set size: 10047\n",
            "Test set size: 9650\n",
            "\n",
            "Shape of sample queries: 1000\n",
            "Shape of sample relevant documents: 1000\n"
          ]
        }
      ],
      "source": [
        "# Print the sizes of each split\n",
        "print(\"Training set size:\", len(train_dataset))\n",
        "print(\"Validation set size:\", len(val_dataset))\n",
        "print(\"Test set size:\", len(test_dataset))\n",
        "\n",
        "#Sample_queries\n",
        "sample_size = 1000\n",
        "sample_queries = queries[0:sample_size]\n",
        "sample_relevant_docs = relevant_docs[0:sample_size]\n",
        "\n",
        "print(\"\\nShape of sample queries:\", len(sample_queries))\n",
        "print(\"Shape of sample relevant documents:\", len(sample_relevant_docs))"
      ]
    },
    {
      "cell_type": "code",
      "execution_count": 8,
      "metadata": {
        "colab": {
          "base_uri": "https://localhost:8080/"
        },
        "id": "YNVS9Kg1F7ZW",
        "outputId": "f077caf3-dd36-4f4e-8b40-84b62a7dc679"
      },
      "outputs": [
        {
          "output_type": "execute_result",
          "data": {
            "text/plain": [
              "('what is rba',\n",
              " {'is_selected': [0, 0, 0, 0, 0, 1, 0, 0, 0, 0],\n",
              "  'passage_text': [\"Since 2007, the RBA's outstanding reputation has been affected by the 'Securency' or NPA scandal. These RBA subsidiaries were involved in bribing overseas officials so that Australia might win lucrative note-printing contracts. The assets of the bank include the gold and foreign exchange reserves of Australia, which is estimated to have a net worth of A$101 billion. Nearly 94% of the RBA's employees work at its headquarters in Sydney, New South Wales and at the Business Resumption Site.\",\n",
              "   \"The Reserve Bank of Australia (RBA) came into being on 14 January 1960 as Australia 's central bank and banknote issuing authority, when the Reserve Bank Act 1959 removed the central banking functions from the Commonwealth Bank. The assets of the bank include the gold and foreign exchange reserves of Australia, which is estimated to have a net worth of A$101 billion. Nearly 94% of the RBA's employees work at its headquarters in Sydney, New South Wales and at the Business Resumption Site.\",\n",
              "   'RBA Recognized with the 2014 Microsoft US Regional Partner of the ... by PR Newswire. Contract Awarded for supply and support the. Securitisations System used for risk management and analysis. ',\n",
              "   'The inner workings of a rebuildable atomizer are surprisingly simple. The coil inside the RBA is made of some type of resistance wire, normally Kanthal or nichrome. When a current is applied to the coil (resistance wire), it heats up and the heated coil then vaporizes the eliquid. 1 The bottom feed RBA is, perhaps, the easiest of all RBA types to build, maintain, and use. 2  It is filled from below, much like bottom coil clearomizer. 3  Bottom feed RBAs can utilize cotton instead of silica for the wick. 4  The Genesis, or genny, is a top feed RBA that utilizes a short woven mesh wire.',\n",
              "   'Results-Based Accountability® (also known as RBA) is a disciplined way of thinking and taking action that communities can use to improve the lives of children, youth, families, adults and the community as a whole. RBA is also used by organizations to improve the performance of their programs. RBA improves the lives of children, families, and communities and the performance of programs because RBA: 1  Gets from talk to action quickly; 2  Is a simple, common sense process that everyone can understand; 3  Helps groups to surface and challenge assumptions that can be barriers to innovation;',\n",
              "   'Results-Based Accountability® (also known as RBA) is a disciplined way of thinking and taking action that communities can use to improve the lives of children, youth, families, adults and the community as a whole. RBA is also used by organizations to improve the performance of their programs. Creating Community Impact with RBA. Community impact focuses on conditions of well-being for children, families and the community as a whole that a group of leaders is working collectively to improve. For example: “Residents with good jobs,” “Children ready for school,” or “A safe and clean neighborhood”.',\n",
              "   'RBA uses a data-driven, decision-making process to help communities and organizations get beyond talking about problems to taking action to solve problems. It is a simple, common sense framework that everyone can understand. RBA starts with ends and works backward, towards means. The “end” or difference you are trying to make looks slightly different if you are working on a broad community level or are focusing on your specific program or organization. RBA improves the lives of children, families, and communities and the performance of programs because RBA: 1  Gets from talk to action quickly; 2  Is a simple, common sense process that everyone can understand; 3  Helps groups to surface and challenge assumptions that can be barriers to innovation;',\n",
              "   'vs. NetIQ Identity Manager. Risk-based authentication (RBA) is a method of applying varying levels of stringency to authentication processes based on the likelihood that access to a given system could result in its being compromised. Risk-based authentication can be categorized as either user-dependent or transaction-dependent. User-dependent RBA processes employ the same authentication for every session initiated by a given user; the exact credentials that the site demands depend on who the user is.',\n",
              "   'A rebuildable atomizer (RBA), often referred to as simply a “rebuildable,” is just a special type of atomizer used in the Vape Pen and Mod Industry that connects to a personal vaporizer. 1 The bottom feed RBA is, perhaps, the easiest of all RBA types to build, maintain, and use. 2  It is filled from below, much like bottom coil clearomizer. 3  Bottom feed RBAs can utilize cotton instead of silica for the wick. 4  The Genesis, or genny, is a top feed RBA that utilizes a short woven mesh wire.',\n",
              "   'Get To Know Us. RBA is a digital and technology consultancy with roots in strategy, design and technology. Our team of specialists help progressive companies deliver modern digital experiences backed by proven technology engineering. '],\n",
              "  'url': ['https://en.wikipedia.org/wiki/Reserve_Bank_of_Australia',\n",
              "   'https://en.wikipedia.org/wiki/Reserve_Bank_of_Australia',\n",
              "   'http://acronyms.thefreedictionary.com/RBA',\n",
              "   'https://www.slimvapepen.com/rebuildable-atomizer-rba/',\n",
              "   'http://rba-africa.com/about/what-is-rba/',\n",
              "   'http://resultsleadership.org/what-is-results-based-accountability-rba/',\n",
              "   'http://rba-africa.com/about/what-is-rba/',\n",
              "   'http://searchsecurity.techtarget.com/definition/risk-based-authentication-RBA',\n",
              "   'https://www.slimvapepen.com/rebuildable-atomizer-rba/',\n",
              "   'http://www.rbaconsulting.com/']})"
            ]
          },
          "metadata": {},
          "execution_count": 8
        }
      ],
      "source": [
        "sample_queries[0], sample_relevant_docs[0]"
      ]
    },
    {
      "cell_type": "code",
      "execution_count": 9,
      "metadata": {
        "colab": {
          "base_uri": "https://localhost:8080/"
        },
        "id": "kMhV_R_rypDw",
        "outputId": "d6793589-5c09-4d4a-bf53-566c7ff1aaa3"
      },
      "outputs": [
        {
          "output_type": "execute_result",
          "data": {
            "text/plain": [
              "(1000, 1000, 8251)"
            ]
          },
          "metadata": {},
          "execution_count": 9
        }
      ],
      "source": [
        "new_sample_relevant_docs = []\n",
        "for i in range(len(sample_relevant_docs)):\n",
        "  new_sample_relevant_docs.append(sample_relevant_docs[i]['passage_text'])\n",
        "\n",
        "\n",
        "all_passages = []\n",
        "for i in new_sample_relevant_docs:\n",
        "  for j in i:\n",
        "    all_passages.append(j)\n",
        "\n",
        "len(sample_queries), len(new_sample_relevant_docs), len(all_passages)"
      ]
    },
    {
      "cell_type": "code",
      "execution_count": 10,
      "metadata": {
        "colab": {
          "base_uri": "https://localhost:8080/"
        },
        "id": "zq5owDARGZnH",
        "outputId": "da14f5b8-bbed-4557-cb9f-f34c507c8f26"
      },
      "outputs": [
        {
          "output_type": "execute_result",
          "data": {
            "text/plain": [
              "(\"Since 2007, the RBA's outstanding reputation has been affected by the 'Securency' or NPA scandal. These RBA subsidiaries were involved in bribing overseas officials so that Australia might win lucrative note-printing contracts. The assets of the bank include the gold and foreign exchange reserves of Australia, which is estimated to have a net worth of A$101 billion. Nearly 94% of the RBA's employees work at its headquarters in Sydney, New South Wales and at the Business Resumption Site.\",\n",
              " \"Since 2007, the RBA's outstanding reputation has been affected by the 'Securency' or NPA scandal. These RBA subsidiaries were involved in bribing overseas officials so that Australia might win lucrative note-printing contracts. The assets of the bank include the gold and foreign exchange reserves of Australia, which is estimated to have a net worth of A$101 billion. Nearly 94% of the RBA's employees work at its headquarters in Sydney, New South Wales and at the Business Resumption Site.\")"
            ]
          },
          "metadata": {},
          "execution_count": 10
        }
      ],
      "source": [
        "new_sample_relevant_docs[0][0], all_passages[0]"
      ]
    },
    {
      "cell_type": "code",
      "execution_count": 11,
      "metadata": {
        "colab": {
          "base_uri": "https://localhost:8080/"
        },
        "id": "NiCCKdcnfzOE",
        "outputId": "0dd13da2-a962-4b40-ea68-61f90f3e11e5"
      },
      "outputs": [
        {
          "output_type": "execute_result",
          "data": {
            "text/plain": [
              "('what is rba',\n",
              " [\"Since 2007, the RBA's outstanding reputation has been affected by the 'Securency' or NPA scandal. These RBA subsidiaries were involved in bribing overseas officials so that Australia might win lucrative note-printing contracts. The assets of the bank include the gold and foreign exchange reserves of Australia, which is estimated to have a net worth of A$101 billion. Nearly 94% of the RBA's employees work at its headquarters in Sydney, New South Wales and at the Business Resumption Site.\",\n",
              "  \"The Reserve Bank of Australia (RBA) came into being on 14 January 1960 as Australia 's central bank and banknote issuing authority, when the Reserve Bank Act 1959 removed the central banking functions from the Commonwealth Bank. The assets of the bank include the gold and foreign exchange reserves of Australia, which is estimated to have a net worth of A$101 billion. Nearly 94% of the RBA's employees work at its headquarters in Sydney, New South Wales and at the Business Resumption Site.\",\n",
              "  'RBA Recognized with the 2014 Microsoft US Regional Partner of the ... by PR Newswire. Contract Awarded for supply and support the. Securitisations System used for risk management and analysis. ',\n",
              "  'The inner workings of a rebuildable atomizer are surprisingly simple. The coil inside the RBA is made of some type of resistance wire, normally Kanthal or nichrome. When a current is applied to the coil (resistance wire), it heats up and the heated coil then vaporizes the eliquid. 1 The bottom feed RBA is, perhaps, the easiest of all RBA types to build, maintain, and use. 2  It is filled from below, much like bottom coil clearomizer. 3  Bottom feed RBAs can utilize cotton instead of silica for the wick. 4  The Genesis, or genny, is a top feed RBA that utilizes a short woven mesh wire.',\n",
              "  'Results-Based Accountability® (also known as RBA) is a disciplined way of thinking and taking action that communities can use to improve the lives of children, youth, families, adults and the community as a whole. RBA is also used by organizations to improve the performance of their programs. RBA improves the lives of children, families, and communities and the performance of programs because RBA: 1  Gets from talk to action quickly; 2  Is a simple, common sense process that everyone can understand; 3  Helps groups to surface and challenge assumptions that can be barriers to innovation;',\n",
              "  'Results-Based Accountability® (also known as RBA) is a disciplined way of thinking and taking action that communities can use to improve the lives of children, youth, families, adults and the community as a whole. RBA is also used by organizations to improve the performance of their programs. Creating Community Impact with RBA. Community impact focuses on conditions of well-being for children, families and the community as a whole that a group of leaders is working collectively to improve. For example: “Residents with good jobs,” “Children ready for school,” or “A safe and clean neighborhood”.',\n",
              "  'RBA uses a data-driven, decision-making process to help communities and organizations get beyond talking about problems to taking action to solve problems. It is a simple, common sense framework that everyone can understand. RBA starts with ends and works backward, towards means. The “end” or difference you are trying to make looks slightly different if you are working on a broad community level or are focusing on your specific program or organization. RBA improves the lives of children, families, and communities and the performance of programs because RBA: 1  Gets from talk to action quickly; 2  Is a simple, common sense process that everyone can understand; 3  Helps groups to surface and challenge assumptions that can be barriers to innovation;',\n",
              "  'vs. NetIQ Identity Manager. Risk-based authentication (RBA) is a method of applying varying levels of stringency to authentication processes based on the likelihood that access to a given system could result in its being compromised. Risk-based authentication can be categorized as either user-dependent or transaction-dependent. User-dependent RBA processes employ the same authentication for every session initiated by a given user; the exact credentials that the site demands depend on who the user is.',\n",
              "  'A rebuildable atomizer (RBA), often referred to as simply a “rebuildable,” is just a special type of atomizer used in the Vape Pen and Mod Industry that connects to a personal vaporizer. 1 The bottom feed RBA is, perhaps, the easiest of all RBA types to build, maintain, and use. 2  It is filled from below, much like bottom coil clearomizer. 3  Bottom feed RBAs can utilize cotton instead of silica for the wick. 4  The Genesis, or genny, is a top feed RBA that utilizes a short woven mesh wire.',\n",
              "  'Get To Know Us. RBA is a digital and technology consultancy with roots in strategy, design and technology. Our team of specialists help progressive companies deliver modern digital experiences backed by proven technology engineering. '],\n",
              " ['There is a trend to modernize data centers in order to take advantage of the performance and energy efficiency increases of newer IT equipment and capabilities, such as cloud computing. This process is also known as data center transformation. In May 2011, data center research organization Uptime Institute reported that 36 percent of the large companies it surveyed expect to exhaust IT capacity within the next 18 months. Data center transformation takes a step-by-step approach through integrated projects carried out over time.',\n",
              "  \"The Wonder Years is an American television comedy-drama created by Neal Marlens and Carol Black. It ran on ABC from 1988 until 1993. The pilot aired on January 31, 1988, following ABC's coverage of Super Bowl XXII. The show achieved a spot in the Nielsen Top 30 for four of its six seasons.\",\n",
              "  'Best Answer: According to their table of fees a flight change will cost you £35.00p/€35.00 per one way flight if done on-line, or £55.00p/€55.00 per flight via the call centre. I need to change a flight,the name on the ticket will be the same, but I need to change the destination. Source(s): cost change flight ryanair: https://biturl.im/cZgWv. Pattie · 2 months ago. Thumbs up.',\n",
              "  'The term ocular hypertension usually refers to any situation in which the pressure inside the eye, called intraocular pressure, is higher than normal. Eye pressure is measured in millimeters of mercury (mm Hg). Normal eye pressure ranges from 10-21 mm Hg. Ocular hypertension is an eye pressure of greater than 21 mm Hg. ',\n",
              "  'The average corn yield was the highest on record. Total costs per acre were the highest on record and total costs per bushel were the lowest in the last four years. Total cost per acre to produce soybeans increased, from $697 per acre in 2013 to $727 per acre in 2014. Generally speaking, the same expenses that increased for corn also increased for soybeans.',\n",
              "  'In addition to saving money on your utility bill, water conservation helps prevent water pollution in nearby lakes, rivers and local watersheds. Conserving water can also extend the life of your septic system by reducing soil saturation, and reducing any pollution due to leaks. There is a worsening trend in water supply nationwide. Taking measures at home to conserve water not only saves you money, it also is of benefit to the greater community. Saving water at home does not require any significant cost outlay.',\n",
              "  'The IRS lists the additional child tax credit and the first-time homebuyer credit as examples; if you qualify for these credits, you can receive a refund even if you had no income and paid no taxes. To claim the credits, you have to file your 1040 and other tax forms.',\n",
              "  'NCVQ’s NVQ Criteria and Guidance from 1995 states that. ‘At the heart of an NVQ is the concept of occupational competence; the ability to perform to the standards required in employment across a range of circumstances and to meet changing demands. NVQs are first and foremost about what people can do.',\n",
              "  'Carbon is a Group 14 element and is distributed very widely in nature. It is found in abundance in the sun, stars, comets, and atmospheres of most planets. Carbon is present as carbon dioxide in the atmosphere and dissolved in all natural waters.',\n",
              "  \"Doomsday kills the entire digging crew and begins a bloody rampage towards Metropolis. He kills a deer, a dog, the dog's owner, and a truck driver (it is implied that other people fell victim to his homicidal fury, as well.) Superman meets the monster there and the two engage in a devastating cross-city battle. Parts of the fight between Superman and Doomsday were cut entirely as well as the off screen suggestives. In fact, no actual punches between the human combatants were shown, nor were Doomsday's blows whenever they struck Superman. It received a TV-PG DSV rating for its Toonami rating and a parental advisory warning.\"])"
            ]
          },
          "metadata": {},
          "execution_count": 11
        }
      ],
      "source": [
        "import numpy as np\n",
        "\n",
        "def select_irrelevant_passages(relevant_docs):\n",
        "    # Get the size of relevant passages\n",
        "    size = len(relevant_docs)\n",
        "\n",
        "    #Filter out passages that are present in relevant_passages\n",
        "    irrelevant_passages_indices = [i for i in range(len(all_passages)) if all_passages[i] not in relevant_docs]\n",
        "\n",
        "    #Select irrelevant passages randomly from filtered passages\n",
        "    irrelevant_indices = np.random.choice(irrelevant_passages_indices, size, replace=False)\n",
        "    irrelevant_passages = [all_passages[i] for i in irrelevant_indices]\n",
        "    return irrelevant_passages\n",
        "\n",
        "def generate_triplets(queries, relevant_docs):\n",
        "    triplets = []\n",
        "    for i, query in enumerate(queries):\n",
        "        relevant_doc = relevant_docs[i]\n",
        "        negative_doc = select_irrelevant_passages(relevant_doc)\n",
        "        triplets.append((query, relevant_doc, negative_doc))\n",
        "    return triplets\n",
        "\n",
        "triplets_train = generate_triplets(sample_queries, new_sample_relevant_docs)\n",
        "\n",
        "triplets_train[0]"
      ]
    },
    {
      "cell_type": "code",
      "execution_count": 12,
      "metadata": {
        "id": "Ela68-_tRXJ3"
      },
      "outputs": [],
      "source": [
        "# Ensuring relevant and  non-relevant documents have same size\n",
        "for i in range(len(triplets_train)):\n",
        "  if len(triplets_train[i][1]) != len(triplets_train[i][2]):\n",
        "    print(\"mismatch\")"
      ]
    },
    {
      "cell_type": "code",
      "execution_count": 13,
      "metadata": {
        "colab": {
          "base_uri": "https://localhost:8080/"
        },
        "id": "FqbaL2MENrgf",
        "outputId": "fc46c1cf-67ea-4fec-a614-3e0d70c2732e"
      },
      "outputs": [
        {
          "output_type": "stream",
          "name": "stdout",
          "text": [
            "8251\n"
          ]
        },
        {
          "output_type": "execute_result",
          "data": {
            "text/plain": [
              "1000"
            ]
          },
          "metadata": {},
          "execution_count": 13
        }
      ],
      "source": [
        "count = 0\n",
        "for sent in triplets_train:\n",
        "  count += len(sent[1])\n",
        "\n",
        "print(count)\n",
        "len(triplets_train)"
      ]
    },
    {
      "cell_type": "code",
      "execution_count": 14,
      "metadata": {
        "colab": {
          "base_uri": "https://localhost:8080/"
        },
        "id": "pOupdszwNi_b",
        "outputId": "4f6b4923-d5fd-4b4f-f206-13a006101dcf"
      },
      "outputs": [
        {
          "output_type": "execute_result",
          "data": {
            "text/plain": [
              "(8251,\n",
              " [('what is rba',\n",
              "   \"Since 2007, the RBA's outstanding reputation has been affected by the 'Securency' or NPA scandal. These RBA subsidiaries were involved in bribing overseas officials so that Australia might win lucrative note-printing contracts. The assets of the bank include the gold and foreign exchange reserves of Australia, which is estimated to have a net worth of A$101 billion. Nearly 94% of the RBA's employees work at its headquarters in Sydney, New South Wales and at the Business Resumption Site.\",\n",
              "   'There is a trend to modernize data centers in order to take advantage of the performance and energy efficiency increases of newer IT equipment and capabilities, such as cloud computing. This process is also known as data center transformation. In May 2011, data center research organization Uptime Institute reported that 36 percent of the large companies it surveyed expect to exhaust IT capacity within the next 18 months. Data center transformation takes a step-by-step approach through integrated projects carried out over time.'),\n",
              "  ('what is rba',\n",
              "   \"The Reserve Bank of Australia (RBA) came into being on 14 January 1960 as Australia 's central bank and banknote issuing authority, when the Reserve Bank Act 1959 removed the central banking functions from the Commonwealth Bank. The assets of the bank include the gold and foreign exchange reserves of Australia, which is estimated to have a net worth of A$101 billion. Nearly 94% of the RBA's employees work at its headquarters in Sydney, New South Wales and at the Business Resumption Site.\",\n",
              "   \"The Wonder Years is an American television comedy-drama created by Neal Marlens and Carol Black. It ran on ABC from 1988 until 1993. The pilot aired on January 31, 1988, following ABC's coverage of Super Bowl XXII. The show achieved a spot in the Nielsen Top 30 for four of its six seasons.\"),\n",
              "  ('what is rba',\n",
              "   'RBA Recognized with the 2014 Microsoft US Regional Partner of the ... by PR Newswire. Contract Awarded for supply and support the. Securitisations System used for risk management and analysis. ',\n",
              "   'Best Answer: According to their table of fees a flight change will cost you £35.00p/€35.00 per one way flight if done on-line, or £55.00p/€55.00 per flight via the call centre. I need to change a flight,the name on the ticket will be the same, but I need to change the destination. Source(s): cost change flight ryanair: https://biturl.im/cZgWv. Pattie · 2 months ago. Thumbs up.'),\n",
              "  ('what is rba',\n",
              "   'The inner workings of a rebuildable atomizer are surprisingly simple. The coil inside the RBA is made of some type of resistance wire, normally Kanthal or nichrome. When a current is applied to the coil (resistance wire), it heats up and the heated coil then vaporizes the eliquid. 1 The bottom feed RBA is, perhaps, the easiest of all RBA types to build, maintain, and use. 2  It is filled from below, much like bottom coil clearomizer. 3  Bottom feed RBAs can utilize cotton instead of silica for the wick. 4  The Genesis, or genny, is a top feed RBA that utilizes a short woven mesh wire.',\n",
              "   'The term ocular hypertension usually refers to any situation in which the pressure inside the eye, called intraocular pressure, is higher than normal. Eye pressure is measured in millimeters of mercury (mm Hg). Normal eye pressure ranges from 10-21 mm Hg. Ocular hypertension is an eye pressure of greater than 21 mm Hg. '),\n",
              "  ('what is rba',\n",
              "   'Results-Based Accountability® (also known as RBA) is a disciplined way of thinking and taking action that communities can use to improve the lives of children, youth, families, adults and the community as a whole. RBA is also used by organizations to improve the performance of their programs. RBA improves the lives of children, families, and communities and the performance of programs because RBA: 1  Gets from talk to action quickly; 2  Is a simple, common sense process that everyone can understand; 3  Helps groups to surface and challenge assumptions that can be barriers to innovation;',\n",
              "   'The average corn yield was the highest on record. Total costs per acre were the highest on record and total costs per bushel were the lowest in the last four years. Total cost per acre to produce soybeans increased, from $697 per acre in 2013 to $727 per acre in 2014. Generally speaking, the same expenses that increased for corn also increased for soybeans.')])"
            ]
          },
          "metadata": {},
          "execution_count": 14
        }
      ],
      "source": [
        "transformed_list = []\n",
        "for item in triplets_train:\n",
        "  lent = len(item[1])\n",
        "  for i in range(lent):\n",
        "    transformed_list.append((item[0],item[1][i],item[2][i]))\n",
        "\n",
        "\n",
        "\n",
        "len(transformed_list), transformed_list[:5]"
      ]
    },
    {
      "cell_type": "code",
      "execution_count": 15,
      "metadata": {
        "colab": {
          "base_uri": "https://localhost:8080/"
        },
        "id": "4kqBplKHHxBd",
        "outputId": "6c8ec43d-e17c-40bc-d6a6-89a536dcf921"
      },
      "outputs": [
        {
          "output_type": "execute_result",
          "data": {
            "text/plain": [
              "(str, str, str)"
            ]
          },
          "metadata": {},
          "execution_count": 15
        }
      ],
      "source": [
        "type(transformed_list[0][0]), type(transformed_list[0][1]), type(transformed_list[0][2])"
      ]
    },
    {
      "cell_type": "code",
      "execution_count": 16,
      "metadata": {
        "colab": {
          "base_uri": "https://localhost:8080/"
        },
        "id": "8v9JU8zKRXL8",
        "outputId": "6e278ea6-f8f1-49d2-e7ba-cdfcd105a84b"
      },
      "outputs": [
        {
          "output_type": "execute_result",
          "data": {
            "text/plain": [
              "10000"
            ]
          },
          "metadata": {},
          "execution_count": 16
        }
      ],
      "source": [
        "# Sentencepiece\n",
        "import sentencepiece as spm\n",
        "import torchtext\n",
        "\n",
        "spm.SentencePieceTrainer.Train('--input=wiki_text.txt --model_prefix=model_1 --vocab_size=10000 --model_type=unigram --model_type=word')\n",
        "sp = spm.SentencePieceProcessor()\n",
        "sp.load('model_1.model')\n",
        "\n",
        "sp.get_piece_size()"
      ]
    },
    {
      "cell_type": "code",
      "execution_count": 17,
      "metadata": {
        "colab": {
          "base_uri": "https://localhost:8080/"
        },
        "id": "niBxvNMGRXNX",
        "outputId": "086da1be-d075-4468-a528-d2d103dc05bb"
      },
      "outputs": [
        {
          "output_type": "stream",
          "name": "stdout",
          "text": [
            "['▁E', 'li', '▁li', 'lly', '!']\n",
            "[74, 1610, 1714, 1599, 976]\n",
            "Eli lilly!\n",
            "Eli lilly!\n"
          ]
        }
      ],
      "source": [
        "print(sp.encode_as_pieces('Eli lilly!'))\n",
        "print(sp.encode_as_ids('Eli lilly!'))\n",
        "print(sp.decode_pieces(['▁E', 'li', '▁li', 'lly', '!']))\n",
        "print(sp.decode_ids([74, 1610, 1714, 1599, 976]))"
      ]
    },
    {
      "cell_type": "code",
      "execution_count": 18,
      "metadata": {
        "colab": {
          "base_uri": "https://localhost:8080/"
        },
        "id": "HB2pkt4GWGb1",
        "outputId": "21438f78-2ade-42f6-c57e-9b7510387dec"
      },
      "outputs": [
        {
          "output_type": "stream",
          "name": "stdout",
          "text": [
            "The length of the embedding is 9746\n"
          ]
        }
      ],
      "source": [
        "# Embedding using gensim in word2vec format\n",
        "embedding_size = 300\n",
        "\n",
        "def tokenize_and_embed(filepath):\n",
        "  with open(filepath, 'r') as f:\n",
        "    text = f.read()\n",
        "  tokens = sp.encode_as_pieces(text)\n",
        "\n",
        "  model = Word2Vec(sentences = [tokens], vector_size = embedding_size, min_count = 1)\n",
        "  word2vec_embedding = model.wv\n",
        "  return word2vec_embedding\n",
        "\n",
        "embeddings = tokenize_and_embed(\"/content/wiki_text.txt\")\n",
        "print(f\"The length of the embedding is {len(embeddings)}\")"
      ]
    },
    {
      "cell_type": "code",
      "execution_count": 19,
      "metadata": {
        "colab": {
          "base_uri": "https://localhost:8080/"
        },
        "id": "gTCsV4BsRXWw",
        "outputId": "4006dfe6-9f7f-4be8-b2c9-3a2d9ca84e60"
      },
      "outputs": [
        {
          "output_type": "execute_result",
          "data": {
            "text/plain": [
              "[',', '▁the', '.', 's', '▁', '▁of', '▁and', '▁in', '▁a', '▁to']"
            ]
          },
          "metadata": {},
          "execution_count": 19
        }
      ],
      "source": [
        "embeddings.index_to_key[:10]"
      ]
    },
    {
      "cell_type": "markdown",
      "metadata": {
        "id": "7DfKYVMwUUxX"
      },
      "source": [
        "##Embedding"
      ]
    },
    {
      "cell_type": "code",
      "execution_count": 20,
      "metadata": {
        "colab": {
          "base_uri": "https://localhost:8080/"
        },
        "id": "53NsSKZjRXa-",
        "outputId": "76ff57e1-fc99-4d57-ccb9-6fb19e64b735"
      },
      "outputs": [
        {
          "output_type": "stream",
          "name": "stdout",
          "text": [
            "The missing_embedding are 14180 in total\n",
            "The properly_embedded are 2126294 in total\n",
            "\n"
          ]
        },
        {
          "output_type": "execute_result",
          "data": {
            "text/plain": [
              "(8251, 8251, 8251, 5, 144, 123)"
            ]
          },
          "metadata": {},
          "execution_count": 20
        }
      ],
      "source": [
        "missing_embedding = []\n",
        "properly_embedded = []\n",
        "\n",
        "def get_embedding(word, embeddings):\n",
        "  if word in embeddings:\n",
        "    properly_embedded.append(word)\n",
        "    return embeddings[word]\n",
        "  else:\n",
        "    missing_embedding.append(word)\n",
        "    return np.zeros(embeddings.vector_size)\n",
        "\n",
        "def tokenize(text):\n",
        "  text = text.lower().replace('\\n','')\n",
        "  tokens = sp.encode_as_pieces(text)\n",
        "  return tokens\n",
        "\n",
        "# Create a list to store word embeddings for the new data\n",
        "query_embeddings, rel_data_embeddings, non_rel_data_embeddings = [], [], []\n",
        "\n",
        "for i,j,k in transformed_list:\n",
        "  # Get word embeddings for each token and average them\n",
        "  query_embedding = [get_embedding(token, embeddings) for token in tokenize(i)]\n",
        "  query_embeddings.append(query_embedding)\n",
        "\n",
        "  rel_data_embedding = [get_embedding(token, embeddings) for token in tokenize(j)]\n",
        "  rel_data_embeddings.append(rel_data_embedding)\n",
        "\n",
        "  non_rel_data_embedding = [get_embedding(token, embeddings) for token in tokenize(k)]\n",
        "  non_rel_data_embeddings.append(non_rel_data_embedding)\n",
        "\n",
        "print(f\"The missing_embedding are {len(missing_embedding)} in total\")\n",
        "print(f\"The properly_embedded are {len(properly_embedded)} in total\\n\")\n",
        "\n",
        "len(query_embeddings), len(rel_data_embeddings), len(non_rel_data_embeddings), len(query_embeddings[0]), len(rel_data_embeddings[0]), len(non_rel_data_embeddings[0])\n"
      ]
    },
    {
      "cell_type": "code",
      "execution_count": 21,
      "metadata": {
        "colab": {
          "base_uri": "https://localhost:8080/"
        },
        "id": "lOAb2eQcYLIB",
        "outputId": "5ed0d8c5-f734-4c9e-8e94-ced99ba35536"
      },
      "outputs": [
        {
          "output_type": "execute_result",
          "data": {
            "text/plain": [
              "[array([-5.25803538e-04,  2.73320312e-03,  9.59745259e-04,  1.60894473e-03,\n",
              "        -2.72297626e-03,  1.06581450e-04, -2.62446888e-03,  1.73834758e-03,\n",
              "        -5.61952584e-05,  2.94386555e-04,  5.81946399e-04, -9.32405004e-04,\n",
              "         1.19037228e-03, -9.67824453e-05, -2.88602151e-03, -3.18788202e-03,\n",
              "         2.94460007e-03, -2.22537247e-03,  7.82318937e-04,  2.86475779e-03,\n",
              "         2.07802490e-03, -2.86427489e-03,  3.07741167e-04, -8.40481545e-04,\n",
              "         2.68015219e-03,  2.24711897e-04,  3.29057849e-03,  9.32275434e-04,\n",
              "        -1.84917846e-03, -1.01081526e-03, -2.93991994e-03,  3.82645521e-04,\n",
              "        -1.32458447e-03, -2.51732790e-03,  5.54287457e-04,  3.19824857e-03,\n",
              "         2.48474511e-03,  3.31913191e-03, -2.78100139e-03,  6.71157439e-04,\n",
              "         2.54838634e-03,  5.05964330e-04,  1.03178900e-03, -2.93698115e-03,\n",
              "         2.58134725e-03,  2.32951995e-03, -6.82234764e-04,  2.36323080e-03,\n",
              "        -1.73923571e-03,  1.31844636e-03,  5.69057447e-05,  1.08566124e-03,\n",
              "        -1.89734017e-03,  8.68838630e-04, -5.79388521e-04,  1.84322789e-03,\n",
              "        -3.31117306e-03, -4.79712500e-04, -2.47279252e-03,  2.48412282e-04,\n",
              "        -2.53119622e-03, -7.45954108e-04, -2.21195584e-03, -1.38069387e-03,\n",
              "         1.56703393e-03, -1.11870766e-04, -2.40803650e-03,  2.66814907e-03,\n",
              "         2.19343900e-04,  1.18211273e-03, -9.06368077e-05, -1.91007613e-03,\n",
              "        -1.23080611e-03,  2.02136789e-03, -1.33478048e-03,  1.47746399e-03,\n",
              "         1.49244472e-04, -1.32522907e-03, -9.83955804e-04, -4.29797568e-04,\n",
              "        -1.62481191e-03, -2.76079774e-03,  1.72189274e-03,  1.47927995e-03,\n",
              "         1.36541005e-03,  2.82082963e-03, -6.48848189e-04,  8.70100630e-04,\n",
              "         5.95464313e-04,  5.63713314e-04,  3.15117446e-04, -1.36628072e-03,\n",
              "        -3.25229415e-03,  8.24869087e-04,  2.61640432e-03, -2.09424342e-03,\n",
              "         1.65370980e-03,  3.14500328e-04, -1.58760347e-03, -3.08256736e-03,\n",
              "        -2.26451992e-03, -1.06554304e-03, -3.20558064e-03, -7.50710955e-04,\n",
              "        -1.14005327e-03, -1.66847906e-03,  6.41150051e-04,  1.49578566e-03,\n",
              "        -3.10553703e-03, -6.83309627e-04, -1.68451064e-04, -1.75213255e-03,\n",
              "        -7.40753836e-04, -2.25468189e-03,  1.27421063e-03,  2.44907010e-03,\n",
              "        -2.12653843e-03, -1.27918995e-03, -2.70874938e-03, -2.12317496e-03,\n",
              "         3.15272971e-03, -3.29931430e-03,  6.92130707e-04, -1.72576503e-04,\n",
              "        -2.15146109e-03, -2.96818302e-03, -1.91545684e-03, -9.74997296e-04,\n",
              "         1.45206612e-03,  9.68672044e-04,  4.56510781e-04, -1.82688236e-03,\n",
              "        -2.36588484e-03, -6.96131377e-04,  8.77535349e-05,  3.31823342e-03,\n",
              "         2.25470983e-03, -1.45936932e-03, -1.42736675e-03, -8.53513076e-04,\n",
              "         7.61994510e-04, -1.77102769e-03,  1.13984344e-04,  4.47409140e-04,\n",
              "        -2.01747054e-03, -2.91009061e-03, -2.28445092e-03,  4.56678477e-04,\n",
              "        -9.06483736e-04,  1.94180524e-03, -3.23694828e-03,  2.53324234e-03,\n",
              "         2.51783081e-03,  3.19164479e-03,  1.57879794e-03, -2.36133346e-03,\n",
              "         2.98919668e-03, -2.36888253e-03, -2.11002957e-03,  2.69997562e-03,\n",
              "        -1.19700031e-04, -2.82737939e-03,  1.33810600e-03, -1.78086353e-04,\n",
              "        -2.37390469e-03,  2.43560225e-03,  1.42986735e-03,  1.03679812e-03,\n",
              "         3.29745375e-03, -1.44161063e-03, -1.75210158e-03,  3.15794302e-03,\n",
              "        -8.06565280e-04, -1.71951612e-03,  1.32894353e-03,  3.26226349e-03,\n",
              "         6.02304935e-04,  5.06191282e-04, -5.49253600e-04, -7.34442496e-04,\n",
              "         2.31393287e-03,  1.02678139e-04,  2.75310152e-03, -2.75994022e-03,\n",
              "         6.07776223e-04, -1.98226166e-03, -1.83614250e-03,  2.33946717e-03,\n",
              "         7.56920199e-04,  3.12619202e-04, -1.50136231e-03,  2.23186775e-03,\n",
              "        -1.56902871e-03, -2.87626474e-03, -2.10960707e-06, -2.53799278e-03,\n",
              "        -3.17835365e-03,  1.88816711e-03,  2.12103291e-03,  3.22435691e-04,\n",
              "        -9.24648426e-04,  8.88671086e-04, -2.09036237e-03, -3.09867458e-03,\n",
              "        -7.20427022e-04,  3.04220710e-03, -5.79472398e-05,  3.21522960e-03,\n",
              "         9.25003667e-04, -1.14770536e-03,  2.07543839e-03, -3.24592437e-03,\n",
              "         1.46282394e-03, -2.67858780e-03,  3.22574773e-03,  1.07217149e-03,\n",
              "        -2.81871925e-03,  1.46854157e-03, -1.27418363e-03,  2.42530182e-03,\n",
              "        -1.48048799e-03, -7.70866056e-04,  2.70877802e-03,  7.48991151e-04,\n",
              "         3.18004726e-03, -3.30142182e-04, -8.19510198e-04, -2.86318449e-04,\n",
              "        -2.72354879e-03,  2.04005209e-03, -2.50822259e-03, -3.22064920e-03,\n",
              "        -2.40263413e-03, -2.47186096e-03,  3.09827714e-03,  2.13683452e-04,\n",
              "         1.35560706e-03,  2.23877188e-03,  3.74597701e-04,  2.30572745e-03,\n",
              "         2.96169135e-04, -2.06958051e-04,  6.82092912e-04,  1.36733730e-03,\n",
              "        -7.10917288e-04,  2.31584185e-03,  3.09331180e-03,  2.80814758e-03,\n",
              "         8.70008487e-04,  5.86920185e-04, -7.86337070e-04,  1.04355928e-03,\n",
              "         2.80108768e-03, -4.97812056e-04,  1.48304540e-03, -6.76078780e-04,\n",
              "        -1.45933591e-03,  2.83363229e-03,  6.13265438e-04,  1.86631561e-03,\n",
              "        -3.09732277e-03,  2.67582689e-03,  3.12095322e-03,  9.67408414e-04,\n",
              "         1.00676541e-03,  6.82235579e-04, -2.35663564e-03, -3.88950895e-04,\n",
              "        -9.62812104e-04,  1.86936255e-03,  4.82326752e-04,  6.26451161e-04,\n",
              "         6.32281706e-04, -2.10900232e-03,  1.72875798e-03,  4.24420832e-05,\n",
              "        -1.01325591e-03, -1.39131700e-03,  2.05826154e-03,  7.63895514e-04,\n",
              "         2.58392026e-03, -1.36277394e-03,  2.32234597e-03,  1.79420668e-03,\n",
              "        -1.07407128e-03, -9.55149357e-04,  2.14561191e-03, -6.46752131e-04,\n",
              "        -2.18371907e-03, -8.63333553e-05, -2.64945580e-03,  2.35748524e-03,\n",
              "         5.77255087e-05,  5.41357207e-04, -2.79089087e-03, -1.64686202e-03,\n",
              "         3.27826740e-04,  5.56290557e-04,  2.82899174e-03,  1.31358509e-03],\n",
              "       dtype=float32),\n",
              " array([ 1.8990223e-03,  2.3225877e-03, -2.6969723e-03, -2.3987805e-03,\n",
              "        -1.8066812e-03, -1.6485997e-03,  2.1646095e-03, -1.9154811e-03,\n",
              "         2.1966191e-03, -2.6081288e-03,  2.2902826e-03, -2.3573721e-03,\n",
              "         2.4144808e-04,  4.0931106e-04, -2.6299336e-03,  1.1116472e-03,\n",
              "        -1.6428137e-03, -2.4183022e-03, -1.9778598e-03, -9.5253153e-04,\n",
              "         2.3921600e-03,  1.6567826e-03, -2.8659315e-03, -2.7921768e-03,\n",
              "        -3.2219149e-03,  2.6464022e-03,  2.5981467e-04,  1.1742708e-03,\n",
              "        -2.3392856e-03,  1.1946841e-03,  1.1074976e-03,  2.5071711e-03,\n",
              "         2.5839866e-03,  2.7480146e-03,  1.6070819e-03,  3.0522370e-03,\n",
              "         3.1681522e-03, -2.5901664e-03,  1.1076931e-03,  4.9056730e-04,\n",
              "         1.8040566e-03,  1.6455436e-03,  3.2347366e-03,  1.5059538e-03,\n",
              "         3.0814933e-03,  2.6361530e-03,  2.7702877e-03,  2.8863270e-04,\n",
              "         1.4127720e-03,  1.1913360e-03,  2.0089984e-04, -9.3932071e-04,\n",
              "        -2.7306017e-03,  3.0162362e-03, -1.5161753e-04,  1.8972628e-03,\n",
              "        -1.7619094e-04, -2.9724287e-03,  2.0117299e-03,  1.8589719e-03,\n",
              "         2.6651558e-03, -1.1619529e-03,  6.7160290e-04,  1.2532028e-03,\n",
              "         1.6706145e-03, -2.7844980e-03, -1.5836768e-03,  2.5089721e-03,\n",
              "        -3.2475321e-03, -1.0069688e-03,  2.9408964e-03,  2.8206066e-03,\n",
              "         2.6915749e-03, -1.5474240e-04,  8.9900056e-04, -1.6378812e-03,\n",
              "        -3.2467037e-03, -1.6653995e-03, -1.4260391e-03,  2.9091437e-03,\n",
              "         8.5551461e-04,  1.3523268e-03, -2.5100242e-03, -2.4586089e-03,\n",
              "         2.7712584e-03, -2.3630313e-03, -9.7662490e-04,  6.2873366e-04,\n",
              "        -1.8019232e-03, -2.1877890e-03, -2.1414454e-03, -1.4793754e-03,\n",
              "        -6.2814116e-04, -3.4056902e-05,  1.6616217e-03,  1.0547134e-03,\n",
              "         2.5561051e-03, -4.9468834e-04,  1.2467531e-03, -1.7233058e-03,\n",
              "        -2.0697116e-04,  8.1960759e-05,  2.3641959e-03,  3.2084901e-04,\n",
              "        -1.9087538e-03,  9.0149086e-04, -1.3878500e-03, -2.2938410e-03,\n",
              "         2.0199507e-03,  2.8149565e-04, -1.3663217e-03, -2.4279214e-03,\n",
              "        -2.7513932e-03, -3.0426208e-03,  7.2140136e-04,  2.2298777e-03,\n",
              "         2.0295635e-03, -2.9244411e-03, -1.6426536e-03,  3.0209108e-03,\n",
              "        -3.0703943e-03, -1.2209634e-03, -2.8293582e-03,  5.9299031e-04,\n",
              "         2.2904463e-03, -5.2144885e-04, -6.3148059e-04, -1.7604032e-04,\n",
              "         1.6314304e-03,  1.5479621e-03,  3.0688643e-03,  2.0109315e-03,\n",
              "        -1.4608479e-03, -4.6354573e-04,  1.4750083e-04,  2.8788559e-03,\n",
              "         1.5693223e-03, -1.8672232e-03, -3.0220004e-03,  1.9863474e-03,\n",
              "         1.4837364e-03,  6.9028576e-04,  3.0160784e-03,  1.9624035e-03,\n",
              "        -9.8307326e-04,  1.9099518e-03,  7.5074036e-05, -3.2417206e-03,\n",
              "        -1.2039315e-03, -6.4018567e-04, -2.8745481e-03,  7.7096105e-04,\n",
              "        -2.0589090e-03, -2.1461705e-03, -2.5120294e-03, -1.6834120e-03,\n",
              "        -2.3688106e-03,  1.5953167e-03,  2.1330738e-03, -2.3142307e-03,\n",
              "         2.2680874e-03, -2.5367264e-03,  2.8638688e-03, -2.4558182e-03,\n",
              "         4.2510510e-04,  1.4369114e-03, -1.9414191e-03, -2.1892535e-03,\n",
              "        -2.1923976e-03,  2.7402393e-03,  7.0533989e-04,  1.5812047e-03,\n",
              "        -7.7691633e-04, -1.6944448e-03,  5.4473797e-04,  2.9303634e-03,\n",
              "        -2.7106801e-04, -3.1665440e-03,  2.3085105e-03,  1.0594391e-03,\n",
              "        -4.5428038e-04,  3.2896121e-04, -1.5272498e-04, -1.4182421e-03,\n",
              "        -2.2617464e-03,  1.2389736e-03, -2.1525915e-03,  1.7850443e-03,\n",
              "        -1.0518404e-03, -2.9426503e-03,  3.2492061e-03, -2.6445708e-03,\n",
              "        -1.9034676e-03, -2.4439415e-03,  2.0512321e-03,  2.5439351e-03,\n",
              "        -2.2130180e-03, -2.2432732e-03,  2.0339394e-03, -1.5215966e-03,\n",
              "        -1.0893384e-03, -2.4067294e-03, -1.3513923e-04, -1.1869402e-03,\n",
              "         1.6356031e-03,  7.2801072e-04,  2.3576181e-04, -1.3283801e-03,\n",
              "        -6.3655258e-04, -1.1947084e-03,  2.2978496e-03,  2.5966971e-03,\n",
              "        -2.3919221e-03,  2.1073560e-03, -1.2763536e-03,  1.1356378e-03,\n",
              "         2.3300587e-03, -1.6832554e-03, -1.6226288e-03, -4.1020472e-04,\n",
              "         1.5088599e-04, -5.8331492e-04,  1.2754917e-03,  2.2592703e-03,\n",
              "        -3.3287981e-03,  7.1884436e-04, -8.7845721e-05, -1.3409972e-03,\n",
              "         1.4514041e-03,  2.6658769e-03, -4.1164956e-05,  2.9711216e-03,\n",
              "         3.0367554e-03,  2.1975024e-03,  1.3526909e-03, -2.7074059e-04,\n",
              "         3.3152997e-03,  1.5332758e-03,  1.8402676e-03, -2.3077286e-03,\n",
              "         6.2637369e-04, -2.2841536e-03,  2.8424079e-03, -3.1748919e-03,\n",
              "        -2.4760365e-03,  2.2457624e-03,  2.0307223e-03, -1.0212382e-04,\n",
              "         1.4661221e-03, -1.4100412e-03,  1.9975109e-03,  5.1114598e-04,\n",
              "        -1.7789217e-03, -2.1405355e-03, -6.4744156e-05, -1.6572706e-03,\n",
              "         2.2472544e-03, -3.1742898e-03,  2.6496279e-03,  5.1721215e-04,\n",
              "         2.9649536e-04, -3.1211078e-03,  8.2732202e-04,  3.1500100e-03,\n",
              "        -2.4567374e-03,  3.0259946e-03,  1.5908090e-03,  1.9155316e-03,\n",
              "         2.8335731e-04,  1.7064563e-03, -2.1816536e-03,  2.9024528e-03,\n",
              "        -1.0305151e-03, -2.1887529e-03,  1.4396866e-04, -2.6684927e-03,\n",
              "         2.5300547e-03,  2.5069248e-03,  5.3186895e-04, -3.0142618e-03,\n",
              "         2.9245177e-03,  1.2491770e-03,  2.0430055e-03,  2.6315069e-03,\n",
              "         1.4349854e-03, -1.4222864e-03,  6.0164690e-04, -2.6245427e-03,\n",
              "        -2.4592110e-03, -2.5386643e-03, -2.4471490e-03, -3.2335783e-03,\n",
              "        -1.7010868e-03, -5.0199230e-04, -8.4243657e-04,  6.8853813e-04,\n",
              "        -1.5840789e-03, -3.1408468e-05, -2.4078859e-03,  5.6795479e-04],\n",
              "       dtype=float32),\n",
              " array([ 3.36928264e-04,  7.46017694e-03,  2.32574856e-03, -2.26899073e-03,\n",
              "        -1.20333675e-03, -1.02308728e-02,  1.41428746e-02,  2.54533961e-02,\n",
              "         3.61847994e-03, -1.29663311e-02,  9.98625718e-03, -1.98560674e-03,\n",
              "        -1.29014915e-02,  1.92296249e-03, -1.44155743e-02, -5.93824359e-03,\n",
              "         4.94330749e-03, -1.01904040e-02,  5.69025706e-03, -1.22772986e-02,\n",
              "        -6.25958340e-03, -6.46017538e-03,  3.03705339e-03,  3.10202362e-03,\n",
              "         3.99371469e-03, -3.62747605e-03, -1.60753112e-02, -1.05182165e-02,\n",
              "        -1.01561788e-02, -2.29373667e-02,  1.47851799e-02, -2.38976046e-03,\n",
              "        -3.91024444e-03,  4.69922647e-03, -7.68300798e-03,  3.19375726e-03,\n",
              "        -1.84832083e-03, -6.22399990e-03,  3.50755843e-04, -4.68013482e-03,\n",
              "        -7.04289693e-03,  2.61343690e-03, -2.29307590e-03, -5.97189320e-03,\n",
              "         2.15997733e-03,  1.90520883e-02, -5.53966407e-03,  6.03781454e-03,\n",
              "         1.44627097e-03,  2.62526721e-02,  3.20376316e-03,  5.99379791e-03,\n",
              "        -2.89129582e-03,  3.80985416e-03, -1.39536299e-02,  1.56076085e-02,\n",
              "         1.04085170e-02,  3.06793349e-03,  2.22129034e-04, -5.82890538e-03,\n",
              "        -6.59005484e-03, -6.53590309e-03,  8.49690475e-03,  2.21813703e-03,\n",
              "        -8.15608911e-03,  3.54041392e-03,  1.07917574e-03,  8.62995163e-03,\n",
              "        -1.99457183e-02, -7.60310912e-04, -1.02203783e-04,  1.12592690e-02,\n",
              "         8.49201996e-03, -6.60065329e-03,  2.50354898e-03, -1.39010767e-03,\n",
              "        -1.48275644e-02,  7.39075185e-04, -5.79085248e-03,  5.44918817e-04,\n",
              "        -3.83470254e-03, -8.76004269e-05,  6.16384624e-03,  2.64200866e-02,\n",
              "         9.47173685e-03,  8.58303066e-03,  2.37464393e-03, -8.73981975e-03,\n",
              "         1.82960667e-02,  6.06805179e-03, -1.55305024e-03, -7.14155193e-03,\n",
              "         3.74598242e-03, -5.50270127e-03,  7.98656885e-03,  6.35726936e-03,\n",
              "         1.24380002e-02,  1.57126389e-03,  2.98606086e-04,  8.61037523e-04,\n",
              "         5.73389372e-03, -7.96564855e-03,  1.72714342e-03, -8.02369229e-03,\n",
              "         5.07902494e-03, -1.19524254e-02, -5.76526916e-04,  1.71847567e-02,\n",
              "        -2.50101672e-03,  6.49611093e-03, -1.47321327e-02, -7.47374445e-03,\n",
              "         6.37138123e-03,  1.74601506e-02, -2.61403969e-04,  1.05067566e-02,\n",
              "         4.96043242e-04,  4.20694333e-03,  2.08542645e-02, -2.71065850e-02,\n",
              "         7.83752557e-03,  8.05554591e-05,  1.25520425e-02, -4.62823221e-03,\n",
              "         8.63076362e-04,  1.92742038e-03, -2.91422126e-03, -1.10125858e-02,\n",
              "        -1.43530127e-03, -2.32303189e-03,  7.10801396e-04,  8.27845931e-03,\n",
              "         7.30433408e-03, -2.77946051e-02,  6.87680719e-03,  1.10060610e-02,\n",
              "        -3.55096441e-03, -8.43679160e-03, -6.32546004e-03, -1.98316388e-02,\n",
              "        -3.23063997e-03, -4.31925990e-03, -9.90783889e-03,  7.25364778e-03,\n",
              "         1.30818365e-02, -3.21457745e-03, -2.10379586e-02,  6.08676113e-04,\n",
              "         1.84519961e-03,  2.39847577e-03, -1.21254625e-03, -2.07758918e-02,\n",
              "        -1.86861604e-02,  8.19336157e-03,  1.13807824e-02,  1.09792491e-02,\n",
              "        -1.58512499e-02, -1.29953194e-02, -8.21474590e-04,  2.18424574e-02,\n",
              "         2.37229149e-04,  1.27582336e-02, -5.65417344e-03,  1.78940520e-02,\n",
              "        -6.52934657e-03,  4.99464944e-03,  5.41539490e-03, -3.54120019e-03,\n",
              "         1.05559779e-02,  1.25361755e-02,  2.15443224e-03, -3.75031680e-03,\n",
              "         8.17046128e-03, -1.08287139e-02, -1.07032165e-03, -4.40497929e-03,\n",
              "         2.21546483e-03, -2.26021800e-02, -2.02955049e-03,  9.63608921e-03,\n",
              "        -4.82189795e-03,  1.63475331e-02, -3.79912811e-03, -8.75878148e-03,\n",
              "         2.89023924e-03, -5.84647804e-03,  1.98650714e-02,  1.61775146e-02,\n",
              "         1.24107050e-02, -7.48615805e-03,  3.69351613e-03,  8.98663234e-03,\n",
              "        -1.22353844e-02,  1.14492429e-02,  5.52291924e-04, -8.49303417e-03,\n",
              "        -2.69716582e-03, -1.24672251e-02,  7.46113830e-04,  4.68010036e-03,\n",
              "        -2.82409391e-03,  9.41885635e-03,  5.26430923e-03, -2.49108276e-03,\n",
              "         6.14448311e-03,  4.50706546e-04,  2.78169825e-03,  2.24709101e-02,\n",
              "        -5.39038097e-03, -2.10021343e-03,  1.06351124e-03, -9.35796741e-03,\n",
              "        -4.17138217e-03,  5.21037774e-03, -8.16305575e-04, -1.03249513e-02,\n",
              "        -1.21479742e-02, -2.28600111e-02, -2.40869001e-02, -1.37310140e-02,\n",
              "         1.23550342e-02,  7.14691356e-03, -2.77257804e-03, -1.12082427e-02,\n",
              "         4.42988286e-03, -7.34421657e-03,  6.16911193e-03, -3.62213759e-04,\n",
              "        -1.42428270e-02, -1.45458314e-03,  1.91424240e-03, -1.59420650e-02,\n",
              "        -7.68628065e-03,  5.83205186e-03, -1.56730525e-02,  5.52059524e-03,\n",
              "        -1.23977140e-02, -4.41834377e-03,  1.39550800e-02, -2.74597667e-02,\n",
              "         3.93665629e-03, -1.00858593e-02, -3.27215320e-03,  4.89415484e-04,\n",
              "         3.91806802e-03, -1.13385245e-02, -1.08240091e-03,  2.98155565e-03,\n",
              "        -2.73633585e-03,  4.29722853e-03, -6.94078335e-04,  4.98649850e-03,\n",
              "         3.11950408e-03, -7.66198477e-03, -1.58877540e-02, -1.05622979e-02,\n",
              "         1.01432186e-02,  9.23425518e-03, -1.48689542e-02, -1.51409013e-02,\n",
              "        -6.04476489e-04,  4.48820734e-04,  7.88987335e-03, -1.83216967e-02,\n",
              "        -1.60966925e-02,  7.16768159e-03,  7.14684743e-03,  8.18841252e-03,\n",
              "        -1.22047653e-02, -5.52302366e-03, -8.03109352e-03,  6.47030259e-03,\n",
              "         6.50435407e-03,  4.86604869e-03,  2.02516820e-02,  4.43115970e-03,\n",
              "         3.78444628e-03,  5.01201395e-03, -8.67034029e-03, -5.90319687e-04,\n",
              "        -2.89386045e-03,  6.16979029e-04, -6.50607469e-03, -1.01622520e-03,\n",
              "        -1.88812509e-03, -7.66069861e-03, -7.51054799e-03, -9.23458720e-04,\n",
              "         1.00269821e-02,  6.38179481e-03,  6.05333969e-03,  1.79022793e-02,\n",
              "         1.28863901e-02,  1.05749890e-02,  1.85054988e-02,  1.55393220e-02,\n",
              "         2.11851846e-04,  1.29727810e-03,  9.16661136e-03, -8.80549196e-03],\n",
              "       dtype=float32),\n",
              " array([-0.0084269 ,  0.04664227,  0.03260544,  0.00068777, -0.01640055,\n",
              "        -0.04321301,  0.065891  ,  0.14501154,  0.00492755, -0.08534112,\n",
              "         0.03377676, -0.02891452, -0.05909618,  0.02708645, -0.07066791,\n",
              "        -0.03307015,  0.01831628, -0.06163714,  0.03717961, -0.07768306,\n",
              "        -0.02939763, -0.02222866,  0.00788356,  0.03796068,  0.01949233,\n",
              "        -0.00744539, -0.10599027, -0.04791433, -0.06055701, -0.11079648,\n",
              "         0.05932838, -0.00196904, -0.02770422,  0.02031866, -0.0608429 ,\n",
              "         0.02431533, -0.0039978 , -0.0257336 , -0.00887607, -0.01658185,\n",
              "        -0.04707037,  0.01862643, -0.02614969, -0.02187264,  0.00864656,\n",
              "         0.1007494 , -0.011392  ,  0.01408611,  0.01013287,  0.13337985,\n",
              "         0.01953086,  0.02088416, -0.01898836,  0.00289038, -0.06084609,\n",
              "         0.06725581,  0.03894225,  0.01608955, -0.0042092 , -0.03670285,\n",
              "        -0.04646382, -0.03220174,  0.0432967 ,  0.01205873, -0.05420369,\n",
              "         0.0035644 ,  0.02407173,  0.04609806, -0.0959148 , -0.00044085,\n",
              "         0.01927329,  0.05825554,  0.05089941, -0.03627249,  0.00119872,\n",
              "         0.007255  , -0.08160882,  0.00554117, -0.02703258,  0.01666745,\n",
              "        -0.00909283, -0.01373511,  0.04743351,  0.13957083,  0.05723746,\n",
              "         0.04854311,  0.01031934, -0.03316337,  0.10813774,  0.04770497,\n",
              "         0.00995081, -0.03081695,  0.02846615, -0.03425054,  0.045786  ,\n",
              "         0.04939939,  0.07844842,  0.01588611,  0.01685394,  0.01989811,\n",
              "         0.03320488, -0.02484179,  0.02201436, -0.03155096,  0.01896857,\n",
              "        -0.05317642,  0.00038749,  0.08007459, -0.02975719,  0.04689256,\n",
              "        -0.09390312, -0.02338025,  0.03035942,  0.08146811,  0.0074213 ,\n",
              "         0.04316713,  0.00473011,  0.0160024 ,  0.10169034, -0.13443048,\n",
              "         0.05518038,  0.0153066 ,  0.0730632 , -0.00996547,  0.00782056,\n",
              "         0.02871261, -0.01986636, -0.06159668, -0.0193776 ,  0.00634134,\n",
              "         0.01212956,  0.03561198,  0.02564001, -0.14936787,  0.03848664,\n",
              "         0.07019351, -0.0246396 , -0.02760687, -0.0198516 , -0.11175469,\n",
              "        -0.01795508, -0.03424316, -0.03304258,  0.03877171,  0.06683777,\n",
              "        -0.01025924, -0.11605789, -0.00728225,  0.02413367,  0.01234934,\n",
              "        -0.01404011, -0.11588997, -0.10961986,  0.03110375,  0.04953741,\n",
              "         0.05469831, -0.09921495, -0.05685428, -0.01945961,  0.11527208,\n",
              "         0.01315858,  0.08065368, -0.04105362,  0.08991552, -0.01440747,\n",
              "         0.02532931,  0.03344094, -0.0197507 ,  0.04681963,  0.08141034,\n",
              "        -0.00603459, -0.00515933,  0.03016443, -0.07477409,  0.00343044,\n",
              "        -0.00308943,  0.00044887, -0.10432273,  0.0049185 ,  0.05225145,\n",
              "        -0.01333827,  0.07168508, -0.03211277, -0.04718925,  0.00272362,\n",
              "        -0.04784808,  0.10132719,  0.08239511,  0.05763902, -0.05569316,\n",
              "         0.01470099,  0.03962137, -0.05209181,  0.04496633, -0.0142862 ,\n",
              "        -0.06427548,  0.00531704, -0.06288768,  0.0024761 ,  0.02205906,\n",
              "         0.00253135,  0.05505843,  0.0185596 , -0.0339033 ,  0.04151763,\n",
              "        -0.00236011,  0.0054703 ,  0.12873167, -0.02909715,  0.00286559,\n",
              "         0.00809829, -0.06215728, -0.03362392,  0.0434997 ,  0.00290768,\n",
              "        -0.05852677, -0.06579792, -0.11757548, -0.14081974, -0.08305489,\n",
              "         0.08491108,  0.02370573, -0.00121294, -0.05644799,  0.00273956,\n",
              "        -0.03993852,  0.04460558, -0.00416061, -0.06649074,  0.00277093,\n",
              "         0.02105506, -0.09651024, -0.02540515,  0.02229708, -0.07727242,\n",
              "         0.01723293, -0.05681746, -0.01139338,  0.06370523, -0.13210349,\n",
              "         0.02123094, -0.05020182, -0.00256653,  0.01754193,  0.01047475,\n",
              "        -0.0511641 , -0.0155748 ,  0.03406322, -0.01805482,  0.02822132,\n",
              "         0.00848749,  0.03451823,  0.03429207, -0.0382768 , -0.0840763 ,\n",
              "        -0.05601622,  0.06737775,  0.06963763, -0.09126105, -0.07850897,\n",
              "        -0.01759284, -0.00583073,  0.02846932, -0.09114537, -0.06932451,\n",
              "         0.0383723 ,  0.05439289,  0.03237392, -0.08162016, -0.0321915 ,\n",
              "        -0.05937209,  0.01677427,  0.02971052,  0.01594101,  0.09302864,\n",
              "         0.01927664,  0.03873799,  0.04299912, -0.04376237, -0.00179032,\n",
              "        -0.03428444,  0.02131378, -0.02970218, -0.02586179, -0.0065443 ,\n",
              "        -0.02348622, -0.04166042,  0.00740976,  0.0630995 ,  0.04388091,\n",
              "         0.03604009,  0.08513613,  0.064351  ,  0.04446418,  0.08468501,\n",
              "         0.07426415,  0.01232722, -0.00378866,  0.0652594 , -0.03484418],\n",
              "       dtype=float32),\n",
              " array([0., 0., 0., 0., 0., 0., 0., 0., 0., 0., 0., 0., 0., 0., 0., 0., 0.,\n",
              "        0., 0., 0., 0., 0., 0., 0., 0., 0., 0., 0., 0., 0., 0., 0., 0., 0.,\n",
              "        0., 0., 0., 0., 0., 0., 0., 0., 0., 0., 0., 0., 0., 0., 0., 0., 0.,\n",
              "        0., 0., 0., 0., 0., 0., 0., 0., 0., 0., 0., 0., 0., 0., 0., 0., 0.,\n",
              "        0., 0., 0., 0., 0., 0., 0., 0., 0., 0., 0., 0., 0., 0., 0., 0., 0.,\n",
              "        0., 0., 0., 0., 0., 0., 0., 0., 0., 0., 0., 0., 0., 0., 0., 0., 0.,\n",
              "        0., 0., 0., 0., 0., 0., 0., 0., 0., 0., 0., 0., 0., 0., 0., 0., 0.,\n",
              "        0., 0., 0., 0., 0., 0., 0., 0., 0., 0., 0., 0., 0., 0., 0., 0., 0.,\n",
              "        0., 0., 0., 0., 0., 0., 0., 0., 0., 0., 0., 0., 0., 0., 0., 0., 0.,\n",
              "        0., 0., 0., 0., 0., 0., 0., 0., 0., 0., 0., 0., 0., 0., 0., 0., 0.,\n",
              "        0., 0., 0., 0., 0., 0., 0., 0., 0., 0., 0., 0., 0., 0., 0., 0., 0.,\n",
              "        0., 0., 0., 0., 0., 0., 0., 0., 0., 0., 0., 0., 0., 0., 0., 0., 0.,\n",
              "        0., 0., 0., 0., 0., 0., 0., 0., 0., 0., 0., 0., 0., 0., 0., 0., 0.,\n",
              "        0., 0., 0., 0., 0., 0., 0., 0., 0., 0., 0., 0., 0., 0., 0., 0., 0.,\n",
              "        0., 0., 0., 0., 0., 0., 0., 0., 0., 0., 0., 0., 0., 0., 0., 0., 0.,\n",
              "        0., 0., 0., 0., 0., 0., 0., 0., 0., 0., 0., 0., 0., 0., 0., 0., 0.,\n",
              "        0., 0., 0., 0., 0., 0., 0., 0., 0., 0., 0., 0., 0., 0., 0., 0., 0.,\n",
              "        0., 0., 0., 0., 0., 0., 0., 0., 0., 0., 0.])]"
            ]
          },
          "metadata": {},
          "execution_count": 21
        }
      ],
      "source": [
        "query_embeddings[0]"
      ]
    },
    {
      "cell_type": "code",
      "execution_count": null,
      "metadata": {
        "id": "7n5YxK0bYWMG",
        "colab": {
          "base_uri": "https://localhost:8080/"
        },
        "outputId": "b0aa51a0-9194-4c39-ee0e-ec3ea09deaa2"
      },
      "outputs": [
        {
          "output_type": "stream",
          "name": "stderr",
          "text": [
            "<ipython-input-22-597d22c3f724>:2: UserWarning: Creating a tensor from a list of numpy.ndarrays is extremely slow. Please consider converting the list to a single numpy.ndarray with numpy.array() before converting to a tensor. (Triggered internally at ../torch/csrc/utils/tensor_new.cpp:275.)\n",
            "  query_tensors = [torch.tensor(embedding).float() for embedding in query_embeddings]\n"
          ]
        }
      ],
      "source": [
        "# creating tensors out of array\n",
        "query_tensors = [torch.tensor(embedding).float() for embedding in query_embeddings]\n",
        "rel_data_tensors = [torch.tensor(embedding).float() for embedding in rel_data_embeddings]\n",
        "non_rel_data_tensors = [torch.tensor(embedding).float() for embedding in non_rel_data_embeddings]\n",
        "\n",
        "len(query_tensors), len(rel_data_tensors), len(non_rel_data_tensors), query_tensors[66].shape, rel_data_tensors[66].shape, non_rel_data_tensors[66].shape"
      ]
    },
    {
      "cell_type": "code",
      "execution_count": null,
      "metadata": {
        "id": "lXdiANqcbSns"
      },
      "outputs": [],
      "source": [
        "# Pad sequences to a common length (assuming you want to pad to the maximum sequence length)\n",
        "que_max_seq_length = max(len(embedding) for embedding in query_embeddings)\n",
        "print(f\"max query sequence len is {que_max_seq_length}\")\n",
        "\n",
        "doc_max_seq_length = max(len(embedding) for embedding in rel_data_embeddings + non_rel_data_embeddings)\n",
        "print(f\"max query sequence len is {doc_max_seq_length}\")\n",
        "\n",
        "query_padded = [F.pad(embedding, pad=(0, 0, 0, que_max_seq_length - embedding.size(0))) for embedding in query_tensors]\n",
        "rel_data_padded = [F.pad(embedding, pad=(0, 0, 0, doc_max_seq_length - embedding.size(0))) for embedding in rel_data_tensors]\n",
        "non_rel_data_padded = [F.pad(embedding, pad=(0, 0, 0, doc_max_seq_length - embedding.size(0))) for embedding in non_rel_data_tensors]\n",
        "\n",
        "\n",
        "len(query_padded), len(rel_data_padded), len(non_rel_data_padded), query_padded[66].shape, rel_data_padded[66].shape, non_rel_data_padded[66].shape"
      ]
    },
    {
      "cell_type": "code",
      "execution_count": null,
      "metadata": {
        "id": "f6BaGeKPd74H"
      },
      "outputs": [],
      "source": [
        "# Stack tensors into batches\n",
        "query_batch = torch.stack(query_padded)\n",
        "rel_data_batch = torch.stack(rel_data_padded)\n",
        "non_rel_data_batch = torch.stack(non_rel_data_padded)\n",
        "\n",
        "len(query_batch), len(rel_data_batch), len(non_rel_data_batch), query_batch[66].shape, rel_data_batch[66].shape, non_rel_data_batch[66].shape"
      ]
    },
    {
      "cell_type": "markdown",
      "metadata": {
        "id": "xevwaUMTgY04"
      },
      "source": [
        "## RNN, GRU, LSTM"
      ]
    },
    {
      "cell_type": "code",
      "execution_count": null,
      "metadata": {
        "id": "eqCX55DBAIUj"
      },
      "outputs": [],
      "source": [
        "class TwoTowerModel(nn.Module):\n",
        "    def __init__(self, embedding_dim, hidden_dim, num_layers, output_size, batch_first=True):\n",
        "        super(TwoTowerModel, self).__init__()\n",
        "        # RNN encoders for queries and documents\n",
        "        self.query_encoder = nn.GRU(embedding_dim, hidden_dim, num_layers, batch_first=batch_first)\n",
        "        self.doc_encoder = nn.GRU(embedding_dim, hidden_dim, num_layers, batch_first=batch_first)\n",
        "\n",
        "        # Final linear layer to project last hidden state to output size\n",
        "        self.query_fc = nn.Linear(hidden_dim, output_size, dtype=torch.float, device=torch.device('cuda' if torch.cuda.is_available() else 'cpu'))\n",
        "        self.doc_fc = nn.Linear(hidden_dim, output_size, dtype=torch.float, device=torch.device('cuda' if torch.cuda.is_available() else 'cpu'))\n",
        "\n",
        "    def forward(self, query_batch = None, rel_data_batch = None, non_rel_data_batch = None):\n",
        "        query_representation = None\n",
        "        rel_doc_representation = None\n",
        "        non_rel_doc_representation = None\n",
        "\n",
        "        if query_batch is not None:\n",
        "          query_encoding, _ = self.query_encoder(query_batch)\n",
        "          last_query_hidden = query_encoding[:, -1, :]  # Get the last hidden state from the sequence output # Select last element from sequence dimension\n",
        "          query_representation = self.query_fc(last_query_hidden)  # Apply the final linear layer to project to desired output size\n",
        "\n",
        "        if rel_data_batch is not None:\n",
        "          rel_doc_encoding, _ = self.doc_encoder(rel_data_batch)\n",
        "          last_rel_doc_hidden = rel_doc_encoding[:, -1, :]\n",
        "          rel_doc_representation = self.doc_fc(last_rel_doc_hidden)\n",
        "\n",
        "        if non_rel_data_batch is not None:\n",
        "          non_rel_doc_encoding, _ = self.doc_encoder(non_rel_data_batch)\n",
        "          last_non_rel_doc_hidden = non_rel_doc_encoding[:, -1, :]\n",
        "          non_rel_doc_representation = self.doc_fc(last_non_rel_doc_hidden)\n",
        "\n",
        "        return query_representation, rel_doc_representation, non_rel_doc_representation\n",
        "\n",
        "\n",
        "def triplet_loss(query_encoding, rel_doc_encoding, non_rel_doc_encoding, margin):\n",
        "      dist_rel = 1 - F.cosine_similarity(query_encoding, rel_doc_encoding)\n",
        "      dist_non_rel = 1 - F.cosine_similarity(query_encoding, non_rel_doc_encoding)\n",
        "      # Calculate triplet loss\n",
        "      loss = torch.clamp(margin + dist_rel - dist_non_rel, min = 0)\n",
        "      return loss.mean()\n",
        "\n",
        "# Create an instance of the two-tower model\n",
        "embedding_dim = 50\n",
        "hidden_dim = 128\n",
        "output_size = 64\n",
        "num_layers = 1\n",
        "batch_first = True\n",
        "num_epochs = 50\n",
        "\n",
        "# Define optimizer\n",
        "learning_rate = 0.01\n",
        "momentum = 0.9\n",
        "loss_margin = 1.0\n",
        "\n",
        "# Instantiate the model\n",
        "two_tower_model = TwoTowerModel(embedding_dim, hidden_dim, num_layers, output_size, batch_first)\n",
        "\n",
        "# Set the optimizer\n",
        "optimizer = optim.SGD(two_tower_model.parameters(), lr=learning_rate, momentum = momentum)\n",
        "\n",
        "loss_data = []\n",
        "for epoch in range(num_epochs):\n",
        "    query_encoding, rel_doc_encoding, non_rel_doc_encoding = two_tower_model(query_batch, rel_data_batch, non_rel_data_batch)\n",
        "    if epoch == 0:\n",
        "      print(\"\\nThe encoded outputs look like\")\n",
        "      print(query_encoding.shape, rel_doc_encoding.shape, non_rel_doc_encoding.shape)\n",
        "      print(\"\\n\")\n",
        "    loss = triplet_loss(query_encoding, rel_doc_encoding, non_rel_doc_encoding, margin=loss_margin)\n",
        "    loss_data.append(loss)\n",
        "    optimizer.zero_grad()\n",
        "    loss.backward()\n",
        "    optimizer.step()\n",
        "    if (epoch % 1 == 0):\n",
        "      print(f\"Epoch {epoch+1}, Loss: {loss.item()}\")\n",
        "\n",
        "print(\"Training completed!\")"
      ]
    },
    {
      "cell_type": "code",
      "execution_count": null,
      "metadata": {
        "id": "VeGMMfUBFZR4"
      },
      "outputs": [],
      "source": [
        "import matplotlib.pyplot as plt\n",
        "\n",
        "loss_values = [loss.item() for loss in loss_data] #converting tensors\n",
        "# Plotting the loss data\n",
        "plt.plot(loss_values)\n",
        "plt.xlabel('Epoch')\n",
        "plt.ylabel('Loss')\n",
        "plt.title('Loss over Epochs')\n",
        "plt.show()"
      ]
    },
    {
      "cell_type": "markdown",
      "metadata": {
        "id": "W7oN6NdqgmXl"
      },
      "source": [
        "## Inference"
      ]
    },
    {
      "cell_type": "code",
      "execution_count": null,
      "metadata": {
        "id": "RYnRtZZ0elWq"
      },
      "outputs": [],
      "source": [
        "# Cachings docs\n",
        "docs = []\n",
        "\n",
        "for i,j,k in transformed_list:\n",
        "  docs.append(j)\n",
        "print(docs[1])\n",
        "\n",
        "new_docs = list(set(docs))\n",
        "new_docs = new_docs[:10]\n",
        "print(f\"The unique docs are {len(new_docs)}\")\n",
        "print(new_docs[0])\n",
        "print(new_docs[1])\n",
        "\n",
        "def preprocess_doc(docs):\n",
        "  doc_embedding = []\n",
        "  for i in docs:\n",
        "    data_embeddings = [get_embedding(token, embeddings) for token in tokenize(i)]\n",
        "    doc_embedding.append(data_embeddings)\n",
        "  data_tensors = [torch.tensor(embedding).float() for embedding in doc_embedding]\n",
        "  data_padded = [F.pad(embedding, pad=(0, 0, 0, doc_max_seq_length - embedding.size(0))) for embedding in data_tensors]\n",
        "  data_batch = torch.stack(data_padded)\n",
        "  return data_batch\n",
        "\n",
        "cached_docs = preprocess_doc(docs)\n",
        "# Encode documents (assuming cached_docs is preprocessed)\n",
        "_, document_encodings, _ = two_tower_model.forward(None, cached_docs, None)\n",
        "\n",
        "docs_dict = {item: document_encoding for item, document_encoding in zip(new_docs, document_encodings)}\n",
        "\n",
        "cached_docs.shape, cached_docs[0][0], document_encodings[0], document_encodings[1], document_encodings[0] == document_encodings[1]"
      ]
    },
    {
      "cell_type": "code",
      "execution_count": null,
      "metadata": {
        "id": "AxYVEobKlu4z"
      },
      "outputs": [],
      "source": [
        "que_max_seq_length = 8\n",
        "\n",
        "def preprocess_query(queries):\n",
        "  query_embedding = []\n",
        "  for i in queries:\n",
        "    query_embeddings = [get_embedding(token, embeddings) for token in tokenize(i)]\n",
        "    query_embedding.append(query_embeddings)\n",
        "\n",
        "  query_tensors = [torch.tensor(embedding).float() for embedding in query_embedding]\n",
        "  query_padded = [F.pad(embedding, pad=(0, 0, 0, que_max_seq_length - embedding.size(0))) for embedding in query_tensors]\n",
        "  query_batch = torch.stack(query_padded)\n",
        "  return query_batch\n",
        "\n",
        "\n",
        "test_queries = [\"Where is india\"]\n",
        "test_query_batch = preprocess_query(test_queries)\n",
        "\n",
        "# Encode the query using a separate call\n",
        "query_encodings, _, _ = two_tower_model.forward(test_query_batch, None, None)\n",
        "\n",
        "test_query_batch.shape, test_query_batch[0][0]"
      ]
    },
    {
      "cell_type": "code",
      "execution_count": null,
      "metadata": {
        "id": "aX8KRZOSSd19"
      },
      "outputs": [],
      "source": [
        "def predict(query_encodings, docs_dict, k):\n",
        "    # Calculate cosine similarity scores\n",
        "    similarity_scores = [F.cosine_similarity(query_encodings.unsqueeze(0), docs_dict[doc_id].unsqueeze(0), dim=1) for doc_id in docs_dict.keys()]\n",
        "    similarity_scores = torch.cat(similarity_scores, dim=1)\n",
        "\n",
        "    # Rank documents by similarity\n",
        "    ranked_documents = sorted(zip(docs_dict.keys(), similarity_scores[0]), key=lambda x: x[1], reverse=True)\n",
        "\n",
        "    # Retrieve top-K documents\n",
        "    top_k_documents = ranked_documents[:k]\n",
        "\n",
        "    return top_k_documents\n",
        "\n",
        "k = 10\n",
        "prediction = predict(query_encodings, docs_dict, k)\n",
        "for i,j in enumerate(prediction):\n",
        "  print(f\"\\nPrediction {i+1}:\\n\")"
      ]
    },
    {
      "cell_type": "code",
      "execution_count": null,
      "metadata": {
        "id": "LJGvZjiASd_C"
      },
      "outputs": [],
      "source": []
    }
  ],
  "metadata": {
    "colab": {
      "provenance": [],
      "gpuType": "T4"
    },
    "kernelspec": {
      "display_name": "Python 3",
      "name": "python3"
    },
    "language_info": {
      "name": "python"
    },
    "accelerator": "GPU"
  },
  "nbformat": 4,
  "nbformat_minor": 0
}