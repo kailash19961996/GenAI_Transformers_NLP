{
 "cells": [
  {
   "cell_type": "code",
   "execution_count": 2,
   "metadata": {},
   "outputs": [],
   "source": [
    "import numpy as np\n",
    "import pandas as pd\n",
    "from datasets import load_dataset\n",
    "import sentencepiece as spm\n",
    "import json"
   ]
  },
  {
   "cell_type": "code",
   "execution_count": 3,
   "metadata": {},
   "outputs": [
    {
     "name": "stdout",
     "output_type": "stream",
     "text": [
      "Total number of lines in the corpus.txt file: 22893436\n"
     ]
    }
   ],
   "source": [
    "# Specify the range of sentences you want to include\n",
    "start_index = 0  # Index of the first sentence you want to include\n",
    "end_index = 10000  # Index of the last sentence you want to include\n",
    "\n",
    "# Open the original corpus file for reading\n",
    "with open(\"corpus.txt\", \"r\") as original_file:\n",
    "    # Read all lines from the file\n",
    "    all_lines = original_file.readlines()\n",
    "\n",
    "# Count the number of lines\n",
    "num_lines = len(all_lines)\n",
    "\n",
    "print(f\"Total number of lines in the corpus.txt file: {num_lines}\")\n",
    "\n",
    "# Extract the subset of lines based on the specified range\n",
    "subset_lines = all_lines[start_index:end_index+1]  # Adding 1 to end_index to include it\n",
    "\n",
    "# Write the subset of lines to a new file\n",
    "with open(\"subset_corpus.txt\", \"w\") as subset_file:\n",
    "    subset_file.writelines(subset_lines)\n"
   ]
  },
  {
   "cell_type": "code",
   "execution_count": 5,
   "metadata": {},
   "outputs": [
    {
     "name": "stderr",
     "output_type": "stream",
     "text": [
      "sentencepiece_trainer.cc(178) LOG(INFO) Running command: --input=subset_corpus.txt --model_prefix=small_m --vocab_size=3927 --normalization_rule_name=nfkc_cf\n",
      "sentencepiece_trainer.cc(78) LOG(INFO) Starts training with : \n",
      "trainer_spec {\n",
      "  input: subset_corpus.txt\n",
      "  input_format: \n",
      "  model_prefix: small_m\n",
      "  model_type: UNIGRAM\n",
      "  vocab_size: 3927\n",
      "  self_test_sample_size: 0\n",
      "  character_coverage: 0.9995\n",
      "  input_sentence_size: 0\n",
      "  shuffle_input_sentence: 1\n",
      "  seed_sentencepiece_size: 1000000\n",
      "  shrinking_factor: 0.75\n",
      "  max_sentence_length: 4192\n",
      "  num_threads: 16\n",
      "  num_sub_iterations: 2\n",
      "  max_sentencepiece_length: 16\n",
      "  split_by_unicode_script: 1\n",
      "  split_by_number: 1\n",
      "  split_by_whitespace: 1\n",
      "  split_digits: 0\n",
      "  pretokenization_delimiter: \n",
      "  treat_whitespace_as_suffix: 0\n",
      "  allow_whitespace_only_pieces: 0\n",
      "  required_chars: \n",
      "  byte_fallback: 0\n",
      "  vocabulary_output_piece_score: 1\n",
      "  train_extremely_large_corpus: 0\n",
      "  seed_sentencepieces_file: \n",
      "  hard_vocab_limit: 1\n",
      "  use_all_vocab: 0\n",
      "  unk_id: 0\n",
      "  bos_id: 1\n",
      "  eos_id: 2\n",
      "  pad_id: -1\n",
      "  unk_piece: <unk>\n",
      "  bos_piece: <s>\n",
      "  eos_piece: </s>\n",
      "  pad_piece: <pad>\n",
      "  unk_surface:  ⁇ \n",
      "  enable_differential_privacy: 0\n",
      "  differential_privacy_noise_level: 0\n",
      "  differential_privacy_clipping_threshold: 0\n",
      "}\n",
      "normalizer_spec {\n",
      "  name: nfkc_cf\n",
      "  add_dummy_prefix: 1\n",
      "  remove_extra_whitespaces: 1\n",
      "  escape_whitespaces: 1\n",
      "  normalization_rule_tsv: \n",
      "}\n",
      "denormalizer_spec {}\n",
      "trainer_interface.cc(353) LOG(INFO) SentenceIterator is not specified. Using MultiFileSentenceIterator.\n",
      "trainer_interface.cc(185) LOG(INFO) Loading corpus: subset_corpus.txt\n",
      "trainer_interface.cc(409) LOG(INFO) Loaded all 5051 sentences\n",
      "trainer_interface.cc(425) LOG(INFO) Adding meta_piece: <unk>\n",
      "trainer_interface.cc(425) LOG(INFO) Adding meta_piece: <s>\n",
      "trainer_interface.cc(425) LOG(INFO) Adding meta_piece: </s>\n",
      "trainer_interface.cc(430) LOG(INFO) Normalizing sentences...\n",
      "trainer_interface.cc(539) LOG(INFO) all chars count=835437\n",
      "trainer_interface.cc(550) LOG(INFO) Done: 99.966% characters are covered.\n",
      "trainer_interface.cc(560) LOG(INFO) Alphabet size=36\n",
      "trainer_interface.cc(561) LOG(INFO) Final character coverage=0.99966\n",
      "trainer_interface.cc(592) LOG(INFO) Done! preprocessed 5046 sentences.\n",
      "unigram_model_trainer.cc(265) LOG(INFO) Making suffix array...\n",
      "unigram_model_trainer.cc(269) LOG(INFO) Extracting frequent sub strings... node_num=479331\n",
      "unigram_model_trainer.cc(312) LOG(INFO) Initialized 12829 seed sentencepieces\n",
      "trainer_interface.cc(598) LOG(INFO) Tokenizing input sentences with whitespace: 5046\n",
      "trainer_interface.cc(609) LOG(INFO) Done! 9722\n",
      "unigram_model_trainer.cc(602) LOG(INFO) Using 9722 sentences for EM training\n",
      "unigram_model_trainer.cc(618) LOG(INFO) EM sub_iter=0 size=5084 obj=9.3159 num_tokens=19055 num_tokens/piece=3.74803\n",
      "unigram_model_trainer.cc(618) LOG(INFO) EM sub_iter=1 size=3921 obj=7.39717 num_tokens=19108 num_tokens/piece=4.87325\n",
      "trainer_interface.cc(687) LOG(INFO) Saving model: small_m.model\n",
      "trainer_interface.cc(699) LOG(INFO) Saving vocabs: small_m.vocab\n"
     ]
    },
    {
     "data": {
      "text/plain": [
       "True"
      ]
     },
     "execution_count": 5,
     "metadata": {},
     "output_type": "execute_result"
    }
   ],
   "source": [
    "spm.SentencePieceTrainer.train('--input=subset_corpus.txt --model_prefix=small_m --vocab_size=3927 --normalization_rule_name=nfkc_cf')\n",
    "sp = spm.SentencePieceProcessor()\n",
    "sp.load('small_m.model')"
   ]
  },
  {
   "cell_type": "code",
   "execution_count": 6,
   "metadata": {},
   "outputs": [],
   "source": [
    "# Tokenized sentences as pieces\n",
    "tokenized_sentences = sp.encode_as_pieces(subset_lines)\n",
    "tokenized_sentences = {\n",
    "    subset_lines[i]: tokenized_sentences[i]\n",
    "    for i in range(0, len(subset_lines))\n",
    "}\n",
    "\n",
    "# Tokenized sentences as ids\n",
    "tokenized_sentences_with_ids = sp.encode_as_ids(subset_lines)\n",
    "tokenized_sentences_with_ids = {\n",
    "    subset_lines[i]: tokenized_sentences_with_ids[i]\n",
    "    for i in range(0, len(subset_lines))\n",
    "}"
   ]
  },
  {
   "cell_type": "code",
   "execution_count": 9,
   "metadata": {},
   "outputs": [
    {
     "name": "stdout",
     "output_type": "stream",
     "text": [
      "vocabulary size:  3765\n"
     ]
    },
    {
     "data": {
      "text/plain": [
       "'▁barely'"
      ]
     },
     "execution_count": 9,
     "metadata": {},
     "output_type": "execute_result"
    }
   ],
   "source": [
    "vocabulary = list(\n",
    "    {\n",
    "        token for token_sent in tokenized_sentences.values()\n",
    "        for token in token_sent\n",
    "    }\n",
    ")\n",
    "print('vocabulary size: ', len(vocabulary))\n",
    "vocabulary[0]"
   ]
  }
 ],
 "metadata": {
  "kernelspec": {
   "display_name": "Python 3",
   "language": "python",
   "name": "python3"
  },
  "language_info": {
   "codemirror_mode": {
    "name": "ipython",
    "version": 3
   },
   "file_extension": ".py",
   "mimetype": "text/x-python",
   "name": "python",
   "nbconvert_exporter": "python",
   "pygments_lexer": "ipython3",
   "version": "3.12.2"
  }
 },
 "nbformat": 4,
 "nbformat_minor": 2
}
